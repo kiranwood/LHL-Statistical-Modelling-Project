{
 "cells": [
  {
   "cell_type": "markdown",
   "metadata": {},
   "source": [
    "#### Build a regression model.\n",
    "\n"
   ]
  },
  {
   "cell_type": "markdown",
   "metadata": {},
   "source": [
    "Building a regression model to demonstrate a relationship between the number of bikes and average number of reviews of nearby restaurants and average rating of nearby restaurants"
   ]
  },
  {
   "cell_type": "code",
   "execution_count": 1,
   "metadata": {},
   "outputs": [],
   "source": [
    "import sqlite3 as sqlite\n",
    "import pandas as pd\n",
    "from sqlalchemy import create_engine\n",
    "\n",
    "connection = create_engine('sqlite:///bike_and_restaurants.db')\n",
    "    \n",
    "sql = ''' SELECT      b.station_name,\n",
    "                      number_of_bikes,\n",
    "                      AVG(review_count) AS avg_review_count,\n",
    "                      AVG(rating) AS avg_rating\n",
    "          FROM        bike_stations b\n",
    "          JOIN        nearby_restaurants nr\n",
    "          ON          b.station_name = nr.station_name\n",
    "          JOIN        restaurants r\n",
    "          ON          nr.restaurant_name = r.restaurant_name\n",
    "          WHERE       review_count IS NOT NULL\n",
    "          GROUP BY    b.station_name, number_of_bikes '''\n",
    "\n",
    "df = pd.read_sql_query(sql, connection)"
   ]
  },
  {
   "cell_type": "markdown",
   "metadata": {},
   "source": [
    "#### Provide model output and an interpretation of the results. "
   ]
  },
  {
   "cell_type": "code",
   "execution_count": 4,
   "metadata": {},
   "outputs": [
    {
     "name": "stdout",
     "output_type": "stream",
     "text": [
      "                                 OLS Regression Results                                \n",
      "=======================================================================================\n",
      "Dep. Variable:        number_of_bikes   R-squared (uncentered):                   0.944\n",
      "Model:                            OLS   Adj. R-squared (uncentered):              0.936\n",
      "Method:                 Least Squares   F-statistic:                              125.9\n",
      "Date:                Sat, 13 Apr 2024   Prob (F-statistic):                    4.20e-10\n",
      "Time:                        22:06:08   Log-Likelihood:                         -38.971\n",
      "No. Observations:                  17   AIC:                                      81.94\n",
      "Df Residuals:                      15   BIC:                                      83.61\n",
      "Df Model:                           2                                                  \n",
      "Covariance Type:            nonrobust                                                  \n",
      "====================================================================================\n",
      "                       coef    std err          t      P>|t|      [0.025      0.975]\n",
      "------------------------------------------------------------------------------------\n",
      "avg_review_count    -0.0087      0.053     -0.165      0.871      -0.121       0.104\n",
      "avg_rating           2.4217      0.256      9.476      0.000       1.877       2.966\n",
      "==============================================================================\n",
      "Omnibus:                        0.610   Durbin-Watson:                   2.995\n",
      "Prob(Omnibus):                  0.737   Jarque-Bera (JB):                0.066\n",
      "Skew:                           0.150   Prob(JB):                        0.967\n",
      "Kurtosis:                       3.053   Cond. No.                         8.46\n",
      "==============================================================================\n",
      "\n",
      "Notes:\n",
      "[1] R² is computed without centering (uncentered) since the model does not contain a constant.\n",
      "[2] Standard Errors assume that the covariance matrix of the errors is correctly specified.\n"
     ]
    },
    {
     "name": "stderr",
     "output_type": "stream",
     "text": [
      "/opt/homebrew/Caskroom/miniforge/base/envs/base_env/lib/python3.8/site-packages/scipy/stats/_stats_py.py:1736: UserWarning: kurtosistest only valid for n>=20 ... continuing anyway, n=17\n",
      "  warnings.warn(\"kurtosistest only valid for n>=20 ... continuing \"\n"
     ]
    }
   ],
   "source": [
    "import statsmodels.api as sm\n",
    "\n",
    "y = df['number_of_bikes']\n",
    "x = df[['avg_review_count', 'avg_rating']]\n",
    "\n",
    "lin_reg = sm.OLS(y, x)\n",
    "\n",
    "model = lin_reg.fit()\n",
    "print_model = model.summary()\n",
    "print(print_model)"
   ]
  },
  {
   "cell_type": "markdown",
   "metadata": {},
   "source": [
    "Removed review_count due to the low p-value in order to get the best of fit model"
   ]
  },
  {
   "cell_type": "code",
   "execution_count": 3,
   "metadata": {},
   "outputs": [
    {
     "name": "stdout",
     "output_type": "stream",
     "text": [
      "                                 OLS Regression Results                                \n",
      "=======================================================================================\n",
      "Dep. Variable:        number_of_bikes   R-squared (uncentered):                   0.944\n",
      "Model:                            OLS   Adj. R-squared (uncentered):              0.940\n",
      "Method:                 Least Squares   F-statistic:                              268.1\n",
      "Date:                Sat, 13 Apr 2024   Prob (F-statistic):                    2.04e-11\n",
      "Time:                        22:05:47   Log-Likelihood:                         -38.986\n",
      "No. Observations:                  17   AIC:                                      79.97\n",
      "Df Residuals:                      16   BIC:                                      80.81\n",
      "Df Model:                           1                                                  \n",
      "Covariance Type:            nonrobust                                                  \n",
      "==============================================================================\n",
      "                 coef    std err          t      P>|t|      [0.025      0.975]\n",
      "------------------------------------------------------------------------------\n",
      "avg_rating     2.3876      0.146     16.375      0.000       2.079       2.697\n",
      "==============================================================================\n",
      "Omnibus:                        0.452   Durbin-Watson:                   2.972\n",
      "Prob(Omnibus):                  0.798   Jarque-Bera (JB):                0.028\n",
      "Skew:                           0.099   Prob(JB):                        0.986\n",
      "Kurtosis:                       2.988   Cond. No.                         1.00\n",
      "==============================================================================\n",
      "\n",
      "Notes:\n",
      "[1] R² is computed without centering (uncentered) since the model does not contain a constant.\n",
      "[2] Standard Errors assume that the covariance matrix of the errors is correctly specified.\n"
     ]
    },
    {
     "name": "stderr",
     "output_type": "stream",
     "text": [
      "/opt/homebrew/Caskroom/miniforge/base/envs/base_env/lib/python3.8/site-packages/scipy/stats/_stats_py.py:1736: UserWarning: kurtosistest only valid for n>=20 ... continuing anyway, n=17\n",
      "  warnings.warn(\"kurtosistest only valid for n>=20 ... continuing \"\n"
     ]
    }
   ],
   "source": [
    "x = df['avg_rating']\n",
    "\n",
    "lin_reg = sm.OLS(y, x)\n",
    "\n",
    "model = lin_reg.fit()\n",
    "print_model = model.summary()\n",
    "print(print_model)"
   ]
  },
  {
   "cell_type": "markdown",
   "metadata": {},
   "source": [
    "From the regression model it can be inferred that there is a positive correlation between the number of bikes in a station and the average rating of restaurants nearby that station. Both the low p-value and the high Adj. R-squared indicates that the model is a good fit. Although there is an error at the bottom that suggests the model may not be as reliable due to the small sample size."
   ]
  },
  {
   "cell_type": "markdown",
   "metadata": {},
   "source": [
    "# Stretch"
   ]
  },
  {
   "cell_type": "markdown",
   "metadata": {},
   "source": [
    "#### How can you turn the regression model into a classification model?"
   ]
  },
  {
   "cell_type": "markdown",
   "metadata": {},
   "source": [
    "It is possible to change the regression model into a classification model by splitting the number_of_bikes into either 'high' or 'low'. This can be done by changing the datatype into object, or categorical type. As well as changing the number of bikes in a station. If higher than the average number of bikes in the column then changed into 'high' and if lower than average changed into 'low'.\n",
    "\n",
    "Then using this new number of bikes column and the rating/review counts, its possible to create a classification problem where the higher/lower than average number of bikes is correlated to the ratings/review counts."
   ]
  }
 ],
 "metadata": {
  "kernelspec": {
   "display_name": "Python 3 (ipykernel)",
   "language": "python",
   "name": "python3"
  },
  "language_info": {
   "codemirror_mode": {
    "name": "ipython",
    "version": 3
   },
   "file_extension": ".py",
   "mimetype": "text/x-python",
   "name": "python",
   "nbconvert_exporter": "python",
   "pygments_lexer": "ipython3",
   "version": "3.8.18"
  }
 },
 "nbformat": 4,
 "nbformat_minor": 4
}
