{
 "cells": [
  {
   "cell_type": "markdown",
   "metadata": {},
   "source": [
    "#### Build a regression model.\n",
    "\n"
   ]
  },
  {
   "cell_type": "markdown",
   "metadata": {},
   "source": [
    "Building a regression model to demonstrate a relationship between the number of bikes and average number of reviews of nearby restaurants and average rating of nearby restaurants"
   ]
  },
  {
   "cell_type": "code",
   "execution_count": 8,
   "metadata": {},
   "outputs": [],
   "source": [
    "import sqlite3 as sqlite\n",
    "import pandas as pd\n",
    "from sqlalchemy import create_engine\n",
    "\n",
    "connection = create_engine('sqlite:///bike_and_restaurants.db')\n",
    "    \n",
    "sql = ''' SELECT      b.station_name,\n",
    "                      number_of_bikes,\n",
    "                      AVG(review_count) AS avg_review_count,\n",
    "                      AVG(rating) AS avg_rating\n",
    "          FROM        bike_stations b\n",
    "          JOIN        nearby_restaurants nr\n",
    "          ON          b.station_name = nr.station_name\n",
    "          JOIN        restaurants r\n",
    "          ON          nr.restaurant_name = r.restaurant_name\n",
    "          WHERE       review_count IS NOT NULL\n",
    "          GROUP BY    b.station_name, number_of_bikes '''\n",
    "\n",
    "df = pd.read_sql_query(sql, connection)"
   ]
  },
  {
   "cell_type": "markdown",
   "metadata": {},
   "source": [
    "#### Provide model output and an interpretation of the results. "
   ]
  },
  {
   "cell_type": "code",
   "execution_count": 12,
   "metadata": {},
   "outputs": [
    {
     "name": "stdout",
     "output_type": "stream",
     "text": [
      "                                 OLS Regression Results                                \n",
      "=======================================================================================\n",
      "Dep. Variable:        number_of_bikes   R-squared (uncentered):                   0.929\n",
      "Model:                            OLS   Adj. R-squared (uncentered):              0.919\n",
      "Method:                 Least Squares   F-statistic:                              91.18\n",
      "Date:                Mon, 15 Apr 2024   Prob (F-statistic):                    9.37e-09\n",
      "Time:                        12:47:23   Log-Likelihood:                         -38.683\n",
      "No. Observations:                  16   AIC:                                      81.37\n",
      "Df Residuals:                      14   BIC:                                      82.91\n",
      "Df Model:                           2                                                  \n",
      "Covariance Type:            nonrobust                                                  \n",
      "====================================================================================\n",
      "                       coef    std err          t      P>|t|      [0.025      0.975]\n",
      "------------------------------------------------------------------------------------\n",
      "avg_review_count    -0.0179      0.065     -0.275      0.788      -0.157       0.122\n",
      "avg_rating           2.4962      0.309      8.080      0.000       1.834       3.159\n",
      "==============================================================================\n",
      "Omnibus:                        0.066   Durbin-Watson:                   2.779\n",
      "Prob(Omnibus):                  0.968   Jarque-Bera (JB):                0.172\n",
      "Skew:                           0.116   Prob(JB):                        0.918\n",
      "Kurtosis:                       2.549   Cond. No.                         8.41\n",
      "==============================================================================\n",
      "\n",
      "Notes:\n",
      "[1] R² is computed without centering (uncentered) since the model does not contain a constant.\n",
      "[2] Standard Errors assume that the covariance matrix of the errors is correctly specified.\n"
     ]
    },
    {
     "name": "stderr",
     "output_type": "stream",
     "text": [
      "/opt/homebrew/Caskroom/miniforge/base/envs/base_env/lib/python3.8/site-packages/scipy/stats/_stats_py.py:1736: UserWarning: kurtosistest only valid for n>=20 ... continuing anyway, n=16\n",
      "  warnings.warn(\"kurtosistest only valid for n>=20 ... continuing \"\n"
     ]
    }
   ],
   "source": [
    "import statsmodels.api as sm\n",
    "\n",
    "y = df['number_of_bikes']\n",
    "x = df[['avg_review_count', 'avg_rating']]\n",
    "\n",
    "lin_reg = sm.OLS(y, x)\n",
    "\n",
    "model = lin_reg.fit()\n",
    "regression_model = model.summary()\n",
    "print(regression_model)"
   ]
  },
  {
   "cell_type": "markdown",
   "metadata": {},
   "source": [
    "Removed review_count due to the low p-value in order to get the best of fit model"
   ]
  },
  {
   "cell_type": "code",
   "execution_count": 11,
   "metadata": {},
   "outputs": [
    {
     "name": "stdout",
     "output_type": "stream",
     "text": [
      "                                 OLS Regression Results                                \n",
      "=======================================================================================\n",
      "Dep. Variable:        number_of_bikes   R-squared (uncentered):                   0.928\n",
      "Model:                            OLS   Adj. R-squared (uncentered):              0.924\n",
      "Method:                 Least Squares   F-statistic:                              194.2\n",
      "Date:                Sun, 14 Apr 2024   Prob (F-statistic):                    5.45e-10\n",
      "Time:                        15:36:59   Log-Likelihood:                         -38.726\n",
      "No. Observations:                  16   AIC:                                      79.45\n",
      "Df Residuals:                      15   BIC:                                      80.22\n",
      "Df Model:                           1                                                  \n",
      "Covariance Type:            nonrobust                                                  \n",
      "==============================================================================\n",
      "                 coef    std err          t      P>|t|      [0.025      0.975]\n",
      "------------------------------------------------------------------------------\n",
      "avg_rating     2.4272      0.174     13.937      0.000       2.056       2.798\n",
      "==============================================================================\n",
      "Omnibus:                        0.010   Durbin-Watson:                   2.695\n",
      "Prob(Omnibus):                  0.995   Jarque-Bera (JB):                0.174\n",
      "Skew:                           0.049   Prob(JB):                        0.917\n",
      "Kurtosis:                       2.499   Cond. No.                         1.00\n",
      "==============================================================================\n",
      "\n",
      "Notes:\n",
      "[1] R² is computed without centering (uncentered) since the model does not contain a constant.\n",
      "[2] Standard Errors assume that the covariance matrix of the errors is correctly specified.\n"
     ]
    },
    {
     "name": "stderr",
     "output_type": "stream",
     "text": [
      "/opt/homebrew/Caskroom/miniforge/base/envs/base_env/lib/python3.8/site-packages/scipy/stats/_stats_py.py:1736: UserWarning: kurtosistest only valid for n>=20 ... continuing anyway, n=16\n",
      "  warnings.warn(\"kurtosistest only valid for n>=20 ... continuing \"\n"
     ]
    }
   ],
   "source": [
    "x = df['avg_rating']\n",
    "\n",
    "lin_reg = sm.OLS(y, x)\n",
    "\n",
    "model = lin_reg.fit()\n",
    "print_model = model.summary()\n",
    "print(print_model)"
   ]
  },
  {
   "cell_type": "markdown",
   "metadata": {},
   "source": [
    "From the regression model it can be inferred that there is a positive correlation between the number of bikes in a station and the average rating of restaurants nearby that station. Both the low p-value and the high Adj. R-squared indicates that the model is a good fit. There is also a low Prob (F-statistic) meaning we can reject the null hypothesis (that there is not a correlation). Although there is an error at the bottom that suggests the model may not be as reliable due to the small sample size."
   ]
  },
  {
   "cell_type": "markdown",
   "metadata": {},
   "source": [
    "# Stretch"
   ]
  },
  {
   "cell_type": "markdown",
   "metadata": {},
   "source": [
    "#### How can you turn the regression model into a classification model?"
   ]
  },
  {
   "cell_type": "markdown",
   "metadata": {},
   "source": [
    "It is possible to change the regression model into a classification model by splitting the number_of_bikes into either 'high' or 'low'. This can be done by changing the datatype into object, or categorical type. As well as changing the number of bikes in a station. If higher than the average number of bikes in the column then changed into 'high' and if lower than average changed into 'low'.\n",
    "\n",
    "Then using this new number of bikes column and the rating/review counts, its possible to create a classification problem where the higher/lower than average number of bikes is correlated to the ratings/review counts."
   ]
  }
 ],
 "metadata": {
  "kernelspec": {
   "display_name": "Python 3 (ipykernel)",
   "language": "python",
   "name": "python3"
  },
  "language_info": {
   "codemirror_mode": {
    "name": "ipython",
    "version": 3
   },
   "file_extension": ".py",
   "mimetype": "text/x-python",
   "name": "python",
   "nbconvert_exporter": "python",
   "pygments_lexer": "ipython3",
   "version": "3.8.18"
  }
 },
 "nbformat": 4,
 "nbformat_minor": 4
}
