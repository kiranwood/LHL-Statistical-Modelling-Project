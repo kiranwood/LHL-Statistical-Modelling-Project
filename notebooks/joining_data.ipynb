{
 "cells": [
  {
   "cell_type": "markdown",
   "metadata": {},
   "source": [
    "#### Join the data from Part 1 with the data from Part 2 to create a new dataframe."
   ]
  },
  {
   "cell_type": "markdown",
   "metadata": {},
   "source": [
    "Joined both API's together into one since some may contain restaurants that are not in the other."
   ]
  },
  {
   "cell_type": "code",
   "execution_count": 147,
   "metadata": {},
   "outputs": [
    {
     "data": {
      "text/html": [
       "<div>\n",
       "<style scoped>\n",
       "    .dataframe tbody tr th:only-of-type {\n",
       "        vertical-align: middle;\n",
       "    }\n",
       "\n",
       "    .dataframe tbody tr th {\n",
       "        vertical-align: top;\n",
       "    }\n",
       "\n",
       "    .dataframe thead th {\n",
       "        text-align: right;\n",
       "    }\n",
       "</style>\n",
       "<table border=\"1\" class=\"dataframe\">\n",
       "  <thead>\n",
       "    <tr style=\"text-align: right;\">\n",
       "      <th></th>\n",
       "      <th>latitude</th>\n",
       "      <th>longitude</th>\n",
       "      <th>number_of_bikes</th>\n",
       "      <th>station_name</th>\n",
       "      <th>restaurant_name</th>\n",
       "      <th>categories</th>\n",
       "      <th>address</th>\n",
       "      <th>review_count</th>\n",
       "      <th>rating</th>\n",
       "      <th>distance</th>\n",
       "    </tr>\n",
       "  </thead>\n",
       "  <tbody>\n",
       "    <tr>\n",
       "      <th>0</th>\n",
       "      <td>43.3216</td>\n",
       "      <td>11.327948</td>\n",
       "      <td>16</td>\n",
       "      <td>Curtatone</td>\n",
       "      <td>La Taverna di San Giuseppe</td>\n",
       "      <td>Tuscan</td>\n",
       "      <td>Via Giovanni Dupre 132</td>\n",
       "      <td>169.0</td>\n",
       "      <td>4.8</td>\n",
       "      <td>745.395007</td>\n",
       "    </tr>\n",
       "    <tr>\n",
       "      <th>1</th>\n",
       "      <td>43.3216</td>\n",
       "      <td>11.327948</td>\n",
       "      <td>16</td>\n",
       "      <td>Curtatone</td>\n",
       "      <td>Zest</td>\n",
       "      <td>Italian, Wine Bars</td>\n",
       "      <td>Costa di Sant'antonio 13</td>\n",
       "      <td>26.0</td>\n",
       "      <td>4.7</td>\n",
       "      <td>177.848119</td>\n",
       "    </tr>\n",
       "    <tr>\n",
       "      <th>2</th>\n",
       "      <td>43.3216</td>\n",
       "      <td>11.327948</td>\n",
       "      <td>16</td>\n",
       "      <td>Curtatone</td>\n",
       "      <td>Compagnia dei Vinattieri</td>\n",
       "      <td>Tuscan</td>\n",
       "      <td>Via delle Terme, 79</td>\n",
       "      <td>24.0</td>\n",
       "      <td>4.3</td>\n",
       "      <td>231.846606</td>\n",
       "    </tr>\n",
       "    <tr>\n",
       "      <th>3</th>\n",
       "      <td>43.3216</td>\n",
       "      <td>11.327948</td>\n",
       "      <td>16</td>\n",
       "      <td>Curtatone</td>\n",
       "      <td>La Chiacchiera</td>\n",
       "      <td>Italian</td>\n",
       "      <td>Via Costa di San Antonio 4</td>\n",
       "      <td>23.0</td>\n",
       "      <td>4.3</td>\n",
       "      <td>181.200690</td>\n",
       "    </tr>\n",
       "    <tr>\n",
       "      <th>4</th>\n",
       "      <td>43.3216</td>\n",
       "      <td>11.327948</td>\n",
       "      <td>16</td>\n",
       "      <td>Curtatone</td>\n",
       "      <td>Café Nannini</td>\n",
       "      <td>Cafes</td>\n",
       "      <td>Piazza Matteotti 32</td>\n",
       "      <td>14.0</td>\n",
       "      <td>4.4</td>\n",
       "      <td>60.451222</td>\n",
       "    </tr>\n",
       "  </tbody>\n",
       "</table>\n",
       "</div>"
      ],
      "text/plain": [
       "   latitude  longitude  number_of_bikes station_name  \\\n",
       "0   43.3216  11.327948               16    Curtatone   \n",
       "1   43.3216  11.327948               16    Curtatone   \n",
       "2   43.3216  11.327948               16    Curtatone   \n",
       "3   43.3216  11.327948               16    Curtatone   \n",
       "4   43.3216  11.327948               16    Curtatone   \n",
       "\n",
       "              restaurant_name          categories                     address  \\\n",
       "0  La Taverna di San Giuseppe              Tuscan      Via Giovanni Dupre 132   \n",
       "1                        Zest  Italian, Wine Bars    Costa di Sant'antonio 13   \n",
       "2    Compagnia dei Vinattieri              Tuscan         Via delle Terme, 79   \n",
       "3              La Chiacchiera             Italian  Via Costa di San Antonio 4   \n",
       "4                Café Nannini               Cafes         Piazza Matteotti 32   \n",
       "\n",
       "   review_count  rating    distance  \n",
       "0         169.0     4.8  745.395007  \n",
       "1          26.0     4.7  177.848119  \n",
       "2          24.0     4.3  231.846606  \n",
       "3          23.0     4.3  181.200690  \n",
       "4          14.0     4.4   60.451222  "
      ]
     },
     "execution_count": 147,
     "metadata": {},
     "output_type": "execute_result"
    }
   ],
   "source": [
    "import pandas as pd\n",
    "\n",
    "bike_stations = pd.read_csv('bike_stations.csv')\n",
    "yelp_restaurants = pd.read_csv('yelp_restaurants.csv')\n",
    "foursquare_restaurants = pd.read_csv('foursquare_restaurants.csv')\n",
    "\n",
    "restaurants = pd.concat([yelp_restaurants, foursquare_restaurants]) # adding different API data together\n",
    "bike_and_restaurants = pd.merge(bike_stations, restaurants, on='station_name') # joining with bike stations\n",
    "\n",
    "bike_and_restaurants.head()"
   ]
  },
  {
   "cell_type": "code",
   "execution_count": 148,
   "metadata": {},
   "outputs": [],
   "source": [
    "bike_and_restaurants.to_csv('bike_and_restaurants.csv', index=False)"
   ]
  },
  {
   "attachments": {},
   "cell_type": "markdown",
   "metadata": {},
   "source": [
    "#### Look at the data before and after the join to validate your data.\n",
    "\n"
   ]
  },
  {
   "cell_type": "markdown",
   "metadata": {},
   "source": [
    "##### Data before join"
   ]
  },
  {
   "cell_type": "code",
   "execution_count": 149,
   "metadata": {},
   "outputs": [
    {
     "name": "stdout",
     "output_type": "stream",
     "text": [
      "    latitude  longitude  number_of_bikes station_name\n",
      "0  43.321600  11.327948               16    Curtatone\n",
      "1  43.314554  11.331021               10  S. Agostino\n",
      "2  43.316539  11.337212                7  S. Girolamo\n",
      "3  43.320523  11.323225               10     Fortezza\n",
      "4  43.328983  11.321913               10    Antiporto\n",
      "              restaurant_name          categories                     address  \\\n",
      "0  La Taverna di San Giuseppe              Tuscan      Via Giovanni Dupre 132   \n",
      "1                        Zest  Italian, Wine Bars    Costa di Sant'antonio 13   \n",
      "2    Compagnia dei Vinattieri              Tuscan         Via delle Terme, 79   \n",
      "3              La Chiacchiera             Italian  Via Costa di San Antonio 4   \n",
      "4                Café Nannini               Cafes         Piazza Matteotti 32   \n",
      "\n",
      "   review_count  rating station_name    distance  \n",
      "0           169     4.8    Curtatone  745.395007  \n",
      "1            26     4.7    Curtatone  177.848119  \n",
      "2            24     4.3    Curtatone  231.846606  \n",
      "3            23     4.3    Curtatone  181.200690  \n",
      "4            14     4.4    Curtatone   60.451222  \n",
      "             restaurant_name  \\\n",
      "0     Pizzeria Alle Scalette   \n",
      "1  Zest Ristorante & Winebar   \n",
      "2       Osteria Il Campaccio   \n",
      "3                    Morbidi   \n",
      "4          Osteria L'Osteria   \n",
      "\n",
      "                                          categories  \\\n",
      "0                                           Pizzeria   \n",
      "1  Wine Bar, Cafe, Coffee, and Tea House, Italian...   \n",
      "2                                          Trattoria   \n",
      "3                                               Deli   \n",
      "4                                 Italian Restaurant   \n",
      "\n",
      "                    address station_name  distance  \n",
      "0        Viale Curtatone 18    Curtatone        22  \n",
      "1  Costa di Sant'Antonio 13    Curtatone       179  \n",
      "2    Vicolo del Campaccio 2    Curtatone       176  \n",
      "3        Via B. di Sopra 73    Curtatone       248  \n",
      "4          Via dei Rossi 79    Curtatone       342  \n"
     ]
    }
   ],
   "source": [
    "print(bike_stations.head())\n",
    "print(yelp_restaurants.head())\n",
    "print(foursquare_restaurants.head())"
   ]
  },
  {
   "cell_type": "markdown",
   "metadata": {},
   "source": [
    "##### Data after join:"
   ]
  },
  {
   "cell_type": "code",
   "execution_count": 150,
   "metadata": {},
   "outputs": [
    {
     "data": {
      "text/html": [
       "<div>\n",
       "<style scoped>\n",
       "    .dataframe tbody tr th:only-of-type {\n",
       "        vertical-align: middle;\n",
       "    }\n",
       "\n",
       "    .dataframe tbody tr th {\n",
       "        vertical-align: top;\n",
       "    }\n",
       "\n",
       "    .dataframe thead th {\n",
       "        text-align: right;\n",
       "    }\n",
       "</style>\n",
       "<table border=\"1\" class=\"dataframe\">\n",
       "  <thead>\n",
       "    <tr style=\"text-align: right;\">\n",
       "      <th></th>\n",
       "      <th>latitude</th>\n",
       "      <th>longitude</th>\n",
       "      <th>number_of_bikes</th>\n",
       "      <th>station_name</th>\n",
       "      <th>restaurant_name</th>\n",
       "      <th>categories</th>\n",
       "      <th>address</th>\n",
       "      <th>review_count</th>\n",
       "      <th>rating</th>\n",
       "      <th>distance</th>\n",
       "    </tr>\n",
       "  </thead>\n",
       "  <tbody>\n",
       "    <tr>\n",
       "      <th>0</th>\n",
       "      <td>43.3216</td>\n",
       "      <td>11.327948</td>\n",
       "      <td>16</td>\n",
       "      <td>Curtatone</td>\n",
       "      <td>La Taverna di San Giuseppe</td>\n",
       "      <td>Tuscan</td>\n",
       "      <td>Via Giovanni Dupre 132</td>\n",
       "      <td>169.0</td>\n",
       "      <td>4.8</td>\n",
       "      <td>745.395007</td>\n",
       "    </tr>\n",
       "    <tr>\n",
       "      <th>1</th>\n",
       "      <td>43.3216</td>\n",
       "      <td>11.327948</td>\n",
       "      <td>16</td>\n",
       "      <td>Curtatone</td>\n",
       "      <td>Zest</td>\n",
       "      <td>Italian, Wine Bars</td>\n",
       "      <td>Costa di Sant'antonio 13</td>\n",
       "      <td>26.0</td>\n",
       "      <td>4.7</td>\n",
       "      <td>177.848119</td>\n",
       "    </tr>\n",
       "    <tr>\n",
       "      <th>2</th>\n",
       "      <td>43.3216</td>\n",
       "      <td>11.327948</td>\n",
       "      <td>16</td>\n",
       "      <td>Curtatone</td>\n",
       "      <td>Compagnia dei Vinattieri</td>\n",
       "      <td>Tuscan</td>\n",
       "      <td>Via delle Terme, 79</td>\n",
       "      <td>24.0</td>\n",
       "      <td>4.3</td>\n",
       "      <td>231.846606</td>\n",
       "    </tr>\n",
       "    <tr>\n",
       "      <th>3</th>\n",
       "      <td>43.3216</td>\n",
       "      <td>11.327948</td>\n",
       "      <td>16</td>\n",
       "      <td>Curtatone</td>\n",
       "      <td>La Chiacchiera</td>\n",
       "      <td>Italian</td>\n",
       "      <td>Via Costa di San Antonio 4</td>\n",
       "      <td>23.0</td>\n",
       "      <td>4.3</td>\n",
       "      <td>181.200690</td>\n",
       "    </tr>\n",
       "    <tr>\n",
       "      <th>4</th>\n",
       "      <td>43.3216</td>\n",
       "      <td>11.327948</td>\n",
       "      <td>16</td>\n",
       "      <td>Curtatone</td>\n",
       "      <td>Café Nannini</td>\n",
       "      <td>Cafes</td>\n",
       "      <td>Piazza Matteotti 32</td>\n",
       "      <td>14.0</td>\n",
       "      <td>4.4</td>\n",
       "      <td>60.451222</td>\n",
       "    </tr>\n",
       "  </tbody>\n",
       "</table>\n",
       "</div>"
      ],
      "text/plain": [
       "   latitude  longitude  number_of_bikes station_name  \\\n",
       "0   43.3216  11.327948               16    Curtatone   \n",
       "1   43.3216  11.327948               16    Curtatone   \n",
       "2   43.3216  11.327948               16    Curtatone   \n",
       "3   43.3216  11.327948               16    Curtatone   \n",
       "4   43.3216  11.327948               16    Curtatone   \n",
       "\n",
       "              restaurant_name          categories                     address  \\\n",
       "0  La Taverna di San Giuseppe              Tuscan      Via Giovanni Dupre 132   \n",
       "1                        Zest  Italian, Wine Bars    Costa di Sant'antonio 13   \n",
       "2    Compagnia dei Vinattieri              Tuscan         Via delle Terme, 79   \n",
       "3              La Chiacchiera             Italian  Via Costa di San Antonio 4   \n",
       "4                Café Nannini               Cafes         Piazza Matteotti 32   \n",
       "\n",
       "   review_count  rating    distance  \n",
       "0         169.0     4.8  745.395007  \n",
       "1          26.0     4.7  177.848119  \n",
       "2          24.0     4.3  231.846606  \n",
       "3          23.0     4.3  181.200690  \n",
       "4          14.0     4.4   60.451222  "
      ]
     },
     "execution_count": 150,
     "metadata": {},
     "output_type": "execute_result"
    }
   ],
   "source": [
    "bike_and_restaurants.head()"
   ]
  },
  {
   "cell_type": "markdown",
   "metadata": {},
   "source": [
    "##### Checking that length and shape of joined data matches with the way the data was joined"
   ]
  },
  {
   "cell_type": "code",
   "execution_count": 173,
   "metadata": {},
   "outputs": [
    {
     "name": "stdout",
     "output_type": "stream",
     "text": [
      "Bike_and_Restaurants Shape: (375, 10)\n",
      "Yelp_Restaurants Shape: (214, 7)\n",
      "Foursquare_Restaurants Shape: (161, 5)\n",
      "Bike_Stations Shape: (19, 4)\n"
     ]
    }
   ],
   "source": [
    "print(f'Bike_and_Restaurants Shape: {bike_and_restaurants.shape}')\n",
    "print(f'Yelp_Restaurants Shape: {yelp_restaurants.shape}')\n",
    "print(f'Foursquare_Restaurants Shape: {foursquare_restaurants.shape}')\n",
    "print(f'Bike_Stations Shape: {bike_stations.shape}')"
   ]
  },
  {
   "cell_type": "code",
   "execution_count": 178,
   "metadata": {},
   "outputs": [
    {
     "name": "stdout",
     "output_type": "stream",
     "text": [
      "Expected Amount of Rows: 375\n",
      "Amount of Rows from join: 375\n"
     ]
    }
   ],
   "source": [
    "print(f'Expected Amount of Rows: {len(yelp_restaurants) + len(foursquare_restaurants)}')\n",
    "print(f'Amount of Rows from join: {len(bike_and_restaurants)}')"
   ]
  },
  {
   "cell_type": "code",
   "execution_count": 187,
   "metadata": {},
   "outputs": [
    {
     "name": "stdout",
     "output_type": "stream",
     "text": [
      "Amount of Columns: 10\n",
      "Expected Amount of Columns: 10\n"
     ]
    }
   ],
   "source": [
    "print(f'Amount of Columns: {len(bike_and_restaurants.columns)}')\n",
    "\n",
    "# Add columns. Remove one from join\n",
    "print(f'Expected Amount of Columns: {len(bike_stations.columns) + len(restaurants.columns) - 1}')"
   ]
  },
  {
   "cell_type": "markdown",
   "metadata": {},
   "source": [
    "##### Checking for Nulls"
   ]
  },
  {
   "cell_type": "code",
   "execution_count": 153,
   "metadata": {},
   "outputs": [
    {
     "data": {
      "text/plain": [
       "latitude             0\n",
       "longitude            0\n",
       "number_of_bikes      0\n",
       "station_name         0\n",
       "restaurant_name      0\n",
       "categories           1\n",
       "address              0\n",
       "review_count       161\n",
       "rating             161\n",
       "distance             0\n",
       "dtype: int64"
      ]
     },
     "execution_count": 153,
     "metadata": {},
     "output_type": "execute_result"
    }
   ],
   "source": [
    "bike_and_restaurants.isnull().sum()"
   ]
  },
  {
   "cell_type": "markdown",
   "metadata": {},
   "source": [
    "It is possible to validate the join using the length of the dataframe from before and after. Because of the way the data is joined together, by the resturants sharing columns, the combined amount of rows of the two api resturants should be the same amount of rows as the final dataframe. This is shown to be correct.\n",
    "\n",
    "The joined dataframe should also have the same amount of columns as the resturant API's combined and the bike stations, ignoring one since they will be sharing a column. Since both the columns from the joined and before match, it indicates that the join was done correctly.\n",
    "\n",
    "The number of nulls in both the review_count and rating is to be expected since one of the API's did not have any data on reviews or rating. The one null in the category is most likely an error and can be cleaned as it shouldn't affect the join. The lack of nulls in the other columns is another indicator that the join was done correctly."
   ]
  },
  {
   "cell_type": "markdown",
   "metadata": {},
   "source": [
    "#### Provide a visualization that you used as part of your EDA process. Explain the initial pattern or relationship you discoved through this visualization. "
   ]
  },
  {
   "cell_type": "code",
   "execution_count": 3,
   "metadata": {},
   "outputs": [
    {
     "data": {
      "image/png": "[encoded data removed]",
      "text/plain": [
       "<Figure size 1000x1000 with 20 Axes>"
      ]
     },
     "metadata": {},
     "output_type": "display_data"
    }
   ],
   "source": [
    "import seaborn as sns\n",
    "import matplotlib.pyplot as plt\n",
    " \n",
    "g = sns.PairGrid(bike_and_restaurants.iloc[:, 2:])\n",
    "g.map_diag(sns.histplot)\n",
    "g.map_offdiag(sns.scatterplot)\n",
    "\n",
    "plt.savefig(\"scatter_and_hist.jpg\")"
   ]
  },
  {
   "cell_type": "markdown",
   "metadata": {},
   "source": [
    "Looking through the scatterplots, the only graph showing a low correlation is between the rating and review_count graph. The rest tend to be scattered and spread around indicating no correlation. Although because this data is not yet cleaned and of the way the data was joined it most likely contains multiple duplicates that may impact the current analysis.\n",
    "\n",
    "The histograms also seem to point out outliers in both the review_count column and the rating column. This will also be tested using a boxplot."
   ]
  },
  {
   "cell_type": "markdown",
   "metadata": {},
   "source": [
    "##### Checking for Outliers"
   ]
  },
  {
   "cell_type": "code",
   "execution_count": 88,
   "metadata": {},
   "outputs": [
    {
     "data": {
      "image/png": "[encoded data removed]",
      "text/plain": [
       "<Figure size 640x480 with 4 Axes>"
      ]
     },
     "metadata": {},
     "output_type": "display_data"
    }
   ],
   "source": [
    "fig, ax = plt.subplots(4)\n",
    "sns.boxplot(ax=ax[0], x=(bike_and_restaurants['review_count']))\n",
    "sns.boxplot(ax=ax[1], x=(bike_and_restaurants['rating']))\n",
    "sns.boxplot(ax=ax[2], x=(bike_and_restaurants['distance']))\n",
    "sns.boxplot(ax=ax[3], x=(bike_and_restaurants['number_of_bikes']))\n",
    "\n",
    "plt.tight_layout()\n",
    "\n",
    "plt.savefig(\"boxplots.jpg\")\n",
    "plt.show()"
   ]
  },
  {
   "cell_type": "markdown",
   "metadata": {},
   "source": [
    "Despite having multiple outliers in different columns, it is best to keep all the outliers. These outliers are most likely extreme values rather than abnormalities or errors. Also due to the low amount of data (only 19 stations), each data point is important. Because of this, it is best to include them to be able to show the entire span of data."
   ]
  },
  {
   "cell_type": "markdown",
   "metadata": {},
   "source": [
    "# Database"
   ]
  },
  {
   "cell_type": "markdown",
   "metadata": {},
   "source": [
    "#### Put all your results in an SQLite3 database (remember, SQLite stores its databases as files in your local machine - make sure to create your database in your project's data/ directory!)"
   ]
  },
  {
   "cell_type": "markdown",
   "metadata": {},
   "source": [
    "##### Creating Database and Tables"
   ]
  },
  {
   "cell_type": "code",
   "execution_count": 135,
   "metadata": {},
   "outputs": [],
   "source": [
    "import sqlite3 as sqlite\n",
    "from sqlalchemy import create_engine"
   ]
  },
  {
   "cell_type": "code",
   "execution_count": 136,
   "metadata": {},
   "outputs": [
    {
     "data": {
      "text/plain": [
       "<sqlite3.Cursor at 0x1780f6ea0>"
      ]
     },
     "execution_count": 136,
     "metadata": {},
     "output_type": "execute_result"
    }
   ],
   "source": [
    "connection = sqlite.connect(\"bike_and_restaurants.db\")\n",
    "\n",
    "\n",
    "create_nearby_restaurants_table = \"\"\" CREATE TABLE IF NOT EXISTS nearby_restaurants(\n",
    "                                             station_name TEXT,\n",
    "                                             restaurant_name TEXT,\n",
    "                                             distance FLOAT,\n",
    "                                             PRIMARY KEY (station_name, restaurant_name)\n",
    "                                             )\n",
    "                                  \"\"\"\n",
    "\n",
    "create_bike_stations_table = \"\"\" CREATE TABLE IF NOT EXISTS bike_stations(\n",
    "                                     station_name TEXT PRIMARY KEY,\n",
    "                                     number_of_bikes INTEGER,\n",
    "                                     latitude TEXT,\n",
    "                                     longitude TEXT,\n",
    "                                     FOREIGN KEY (station_name) REFERENCES nearby_restaurants(station_name) \n",
    "                                     )\n",
    "                             \"\"\"\n",
    "\n",
    "create_restaurants_table = \"\"\" CREATE TABLE IF NOT EXISTS restaurants(\n",
    "                                   restaurant_name TEXT PRIMARY KEY,\n",
    "                                   categories TEXT,\n",
    "                                   address TEXT,\n",
    "                                   review_count FLOAT,\n",
    "                                   rating FLOAT,\n",
    "                                   FOREIGN KEY (restaurant_name) REFERENCES nearby_restaurants(restaurant_name)\n",
    "                                   )\n",
    "                           \"\"\"\n",
    "\n",
    "\n",
    "cursor = connection.cursor()\n",
    "cursor.execute(create_nearby_restaurants_table)\n",
    "cursor.execute(create_bike_stations_table)\n",
    "cursor.execute(create_restaurants_table)"
   ]
  },
  {
   "cell_type": "markdown",
   "metadata": {},
   "source": [
    "##### Cleaning Data"
   ]
  },
  {
   "cell_type": "code",
   "execution_count": 137,
   "metadata": {},
   "outputs": [],
   "source": [
    "def clean_strings(columns): # capitalizing first letter and removing leading and trailing spaces\n",
    "    for column in columns:\n",
    "        bike_and_restaurants[column] = bike_and_restaurants[column].str.capitalize()\n",
    "        bike_and_restaurants[column] = bike_and_restaurants[column].str.strip()\n",
    "\n",
    "clean_strings(['restaurant_name', 'station_name', 'categories', 'address'])\n",
    "bike_and_restaurants = bike_and_restaurants[bike_and_restaurants['distance'] < 1000] # distance within 100m"
   ]
  },
  {
   "cell_type": "code",
   "execution_count": 138,
   "metadata": {},
   "outputs": [
    {
     "data": {
      "text/html": [
       "<div>\n",
       "<style scoped>\n",
       "    .dataframe tbody tr th:only-of-type {\n",
       "        vertical-align: middle;\n",
       "    }\n",
       "\n",
       "    .dataframe tbody tr th {\n",
       "        vertical-align: top;\n",
       "    }\n",
       "\n",
       "    .dataframe thead th {\n",
       "        text-align: right;\n",
       "    }\n",
       "</style>\n",
       "<table border=\"1\" class=\"dataframe\">\n",
       "  <thead>\n",
       "    <tr style=\"text-align: right;\">\n",
       "      <th></th>\n",
       "      <th>station_name</th>\n",
       "      <th>restaurant_name</th>\n",
       "      <th>distance</th>\n",
       "    </tr>\n",
       "  </thead>\n",
       "  <tbody>\n",
       "    <tr>\n",
       "      <th>0</th>\n",
       "      <td>Curtatone</td>\n",
       "      <td>La taverna di san giuseppe</td>\n",
       "      <td>745.395007</td>\n",
       "    </tr>\n",
       "    <tr>\n",
       "      <th>1</th>\n",
       "      <td>Curtatone</td>\n",
       "      <td>Zest</td>\n",
       "      <td>177.848119</td>\n",
       "    </tr>\n",
       "    <tr>\n",
       "      <th>2</th>\n",
       "      <td>Curtatone</td>\n",
       "      <td>Compagnia dei vinattieri</td>\n",
       "      <td>231.846606</td>\n",
       "    </tr>\n",
       "    <tr>\n",
       "      <th>3</th>\n",
       "      <td>Curtatone</td>\n",
       "      <td>La chiacchiera</td>\n",
       "      <td>181.200690</td>\n",
       "    </tr>\n",
       "    <tr>\n",
       "      <th>4</th>\n",
       "      <td>Curtatone</td>\n",
       "      <td>Café nannini</td>\n",
       "      <td>60.451222</td>\n",
       "    </tr>\n",
       "  </tbody>\n",
       "</table>\n",
       "</div>"
      ],
      "text/plain": [
       "  station_name             restaurant_name    distance\n",
       "0    Curtatone  La taverna di san giuseppe  745.395007\n",
       "1    Curtatone                        Zest  177.848119\n",
       "2    Curtatone    Compagnia dei vinattieri  231.846606\n",
       "3    Curtatone              La chiacchiera  181.200690\n",
       "4    Curtatone                Café nannini   60.451222"
      ]
     },
     "execution_count": 138,
     "metadata": {},
     "output_type": "execute_result"
    }
   ],
   "source": [
    "# cleaning and moving data for nearby_resturants table\n",
    "\n",
    "nearby_restaurants = bike_and_restaurants[['station_name', 'restaurant_name', 'distance']]\n",
    "nearby_restaurants = nearby_restaurants.drop_duplicates(subset=['station_name', 'restaurant_name'])\n",
    "\n",
    "nearby_restaurants.head()"
   ]
  },
  {
   "cell_type": "code",
   "execution_count": 139,
   "metadata": {},
   "outputs": [
    {
     "data": {
      "text/html": [
       "<div>\n",
       "<style scoped>\n",
       "    .dataframe tbody tr th:only-of-type {\n",
       "        vertical-align: middle;\n",
       "    }\n",
       "\n",
       "    .dataframe tbody tr th {\n",
       "        vertical-align: top;\n",
       "    }\n",
       "\n",
       "    .dataframe thead th {\n",
       "        text-align: right;\n",
       "    }\n",
       "</style>\n",
       "<table border=\"1\" class=\"dataframe\">\n",
       "  <thead>\n",
       "    <tr style=\"text-align: right;\">\n",
       "      <th></th>\n",
       "      <th>latitude</th>\n",
       "      <th>longitude</th>\n",
       "      <th>number_of_bikes</th>\n",
       "      <th>station_name</th>\n",
       "    </tr>\n",
       "  </thead>\n",
       "  <tbody>\n",
       "    <tr>\n",
       "      <th>0</th>\n",
       "      <td>43.321600</td>\n",
       "      <td>11.327948</td>\n",
       "      <td>16</td>\n",
       "      <td>Curtatone</td>\n",
       "    </tr>\n",
       "    <tr>\n",
       "      <th>30</th>\n",
       "      <td>43.314554</td>\n",
       "      <td>11.331021</td>\n",
       "      <td>10</td>\n",
       "      <td>S. agostino</td>\n",
       "    </tr>\n",
       "    <tr>\n",
       "      <th>60</th>\n",
       "      <td>43.316539</td>\n",
       "      <td>11.337212</td>\n",
       "      <td>7</td>\n",
       "      <td>S. girolamo</td>\n",
       "    </tr>\n",
       "    <tr>\n",
       "      <th>90</th>\n",
       "      <td>43.320523</td>\n",
       "      <td>11.323225</td>\n",
       "      <td>10</td>\n",
       "      <td>Fortezza</td>\n",
       "    </tr>\n",
       "    <tr>\n",
       "      <th>120</th>\n",
       "      <td>43.328983</td>\n",
       "      <td>11.321913</td>\n",
       "      <td>10</td>\n",
       "      <td>Antiporto</td>\n",
       "    </tr>\n",
       "  </tbody>\n",
       "</table>\n",
       "</div>"
      ],
      "text/plain": [
       "      latitude  longitude  number_of_bikes station_name\n",
       "0    43.321600  11.327948               16    Curtatone\n",
       "30   43.314554  11.331021               10  S. agostino\n",
       "60   43.316539  11.337212                7  S. girolamo\n",
       "90   43.320523  11.323225               10     Fortezza\n",
       "120  43.328983  11.321913               10    Antiporto"
      ]
     },
     "execution_count": 139,
     "metadata": {},
     "output_type": "execute_result"
    }
   ],
   "source": [
    "# cleaning and moving data for bike_stations table\n",
    "\n",
    "bike_stations = bike_and_restaurants.iloc[:, :4] # getting station_name and details\n",
    "bike_stations = bike_stations.drop_duplicates()\n",
    "bike_stations = bike_stations[bike_stations['number_of_bikes'] > 0] # removing possible negative # of bikes\n",
    "\n",
    "bike_stations.head()"
   ]
  },
  {
   "cell_type": "code",
   "execution_count": 140,
   "metadata": {},
   "outputs": [
    {
     "data": {
      "text/html": [
       "<div>\n",
       "<style scoped>\n",
       "    .dataframe tbody tr th:only-of-type {\n",
       "        vertical-align: middle;\n",
       "    }\n",
       "\n",
       "    .dataframe tbody tr th {\n",
       "        vertical-align: top;\n",
       "    }\n",
       "\n",
       "    .dataframe thead th {\n",
       "        text-align: right;\n",
       "    }\n",
       "</style>\n",
       "<table border=\"1\" class=\"dataframe\">\n",
       "  <thead>\n",
       "    <tr style=\"text-align: right;\">\n",
       "      <th></th>\n",
       "      <th>restaurant_name</th>\n",
       "      <th>categories</th>\n",
       "      <th>address</th>\n",
       "      <th>review_count</th>\n",
       "      <th>rating</th>\n",
       "    </tr>\n",
       "  </thead>\n",
       "  <tbody>\n",
       "    <tr>\n",
       "      <th>0</th>\n",
       "      <td>La taverna di san giuseppe</td>\n",
       "      <td>Tuscan</td>\n",
       "      <td>Via giovanni dupre 132</td>\n",
       "      <td>169.0</td>\n",
       "      <td>4.8</td>\n",
       "    </tr>\n",
       "    <tr>\n",
       "      <th>1</th>\n",
       "      <td>Zest</td>\n",
       "      <td>Italian, wine bars</td>\n",
       "      <td>Costa di sant'antonio 13</td>\n",
       "      <td>26.0</td>\n",
       "      <td>4.7</td>\n",
       "    </tr>\n",
       "    <tr>\n",
       "      <th>2</th>\n",
       "      <td>Compagnia dei vinattieri</td>\n",
       "      <td>Tuscan</td>\n",
       "      <td>Via delle terme, 79</td>\n",
       "      <td>24.0</td>\n",
       "      <td>4.3</td>\n",
       "    </tr>\n",
       "    <tr>\n",
       "      <th>3</th>\n",
       "      <td>La chiacchiera</td>\n",
       "      <td>Italian</td>\n",
       "      <td>Via costa di san antonio 4</td>\n",
       "      <td>23.0</td>\n",
       "      <td>4.3</td>\n",
       "    </tr>\n",
       "    <tr>\n",
       "      <th>4</th>\n",
       "      <td>Café nannini</td>\n",
       "      <td>Cafes</td>\n",
       "      <td>Piazza matteotti 32</td>\n",
       "      <td>14.0</td>\n",
       "      <td>4.4</td>\n",
       "    </tr>\n",
       "  </tbody>\n",
       "</table>\n",
       "</div>"
      ],
      "text/plain": [
       "              restaurant_name          categories                     address  \\\n",
       "0  La taverna di san giuseppe              Tuscan      Via giovanni dupre 132   \n",
       "1                        Zest  Italian, wine bars    Costa di sant'antonio 13   \n",
       "2    Compagnia dei vinattieri              Tuscan         Via delle terme, 79   \n",
       "3              La chiacchiera             Italian  Via costa di san antonio 4   \n",
       "4                Café nannini               Cafes         Piazza matteotti 32   \n",
       "\n",
       "   review_count  rating  \n",
       "0         169.0     4.8  \n",
       "1          26.0     4.7  \n",
       "2          24.0     4.3  \n",
       "3          23.0     4.3  \n",
       "4          14.0     4.4  "
      ]
     },
     "execution_count": 140,
     "metadata": {},
     "output_type": "execute_result"
    }
   ],
   "source": [
    "# cleaning and moving data for resturants table\n",
    "\n",
    "restaurants = bike_and_restaurants.iloc[:, 4:-1] # getting resturant_name and details\n",
    "restaurants = restaurants.drop_duplicates(subset='restaurant_name')\n",
    "restaurants.loc[restaurants['restaurant_name'] == 'Bar Silvana', 'categories'] = 'Bars' # removing null\n",
    "\n",
    "restaurants.head()"
   ]
  },
  {
   "cell_type": "markdown",
   "metadata": {},
   "source": [
    "##### Adding Data into Database"
   ]
  },
  {
   "cell_type": "code",
   "execution_count": 142,
   "metadata": {},
   "outputs": [
    {
     "data": {
      "text/plain": [
       "129"
      ]
     },
     "execution_count": 142,
     "metadata": {},
     "output_type": "execute_result"
    }
   ],
   "source": [
    "con = create_engine('sqlite:///bike_and_restaurants.db')\n",
    "\n",
    "nearby_restaurants.to_sql('nearby_restaurants', con=con, if_exists='append', index=False)\n",
    "bike_stations.to_sql('bike_stations', con=con, if_exists='append', index=False)\n",
    "restaurants.to_sql('restaurants', con=con, if_exists='append', index=False)"
   ]
  }
 ],
 "metadata": {
  "kernelspec": {
   "display_name": "Python 3 (ipykernel)",
   "language": "python",
   "name": "python3"
  },
  "language_info": {
   "codemirror_mode": {
    "name": "ipython",
    "version": 3
   },
   "file_extension": ".py",
   "mimetype": "text/x-python",
   "name": "python",
   "nbconvert_exporter": "python",
   "pygments_lexer": "ipython3",
   "version": "3.8.18"
  }
 },
 "nbformat": 4,
 "nbformat_minor": 4
}
