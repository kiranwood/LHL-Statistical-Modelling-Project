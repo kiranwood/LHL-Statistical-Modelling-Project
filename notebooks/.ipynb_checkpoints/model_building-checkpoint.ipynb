{
 "cells": [
  {
   "cell_type": "markdown",
   "metadata": {},
   "source": [
    "#### Build a regression model.\n",
    "\n"
   ]
  },
  {
   "cell_type": "markdown",
   "metadata": {},
   "source": [
    "Building a regression model to demonstrate a relationship between the number of bikes and average number of reviews of nearby restaurants and average rating of nearby restaurants"
   ]
  },
  {
   "cell_type": "code",
   "execution_count": 73,
   "metadata": {},
   "outputs": [],
   "source": [
    "import sqlite3 as sqlite\n",
    "import pandas as pd\n",
    "from sqlalchemy import create_engine\n",
    "\n",
    "connection = create_engine('sqlite:///bike_and_restaurants.db')\n",
    "    \n",
    "sql = ''' SELECT      b.station_name,\n",
    "                      number_of_bikes,\n",
    "                      AVG(review_count) AS avg_review_count,\n",
    "                      AVG(rating) AS avg_rating\n",
    "          FROM        bike_stations b\n",
    "          JOIN        nearby_restaurants nr\n",
    "          ON          b.station_name = nr.station_name\n",
    "          JOIN        restaurants r\n",
    "          ON          nr.restaurant_name = r.restaurant_name\n",
    "          WHERE       review_count IS NOT NULL\n",
    "          GROUP BY    b.station_name, number_of_bikes '''\n",
    "\n",
    "df = pd.read_sql_query(sql, connection)"
   ]
  },
  {
   "cell_type": "markdown",
   "metadata": {},
   "source": [
    "#### Provide model output and an interpretation of the results. "
   ]
  },
  {
   "cell_type": "code",
   "execution_count": 78,
   "metadata": {},
   "outputs": [
    {
     "name": "stdout",
     "output_type": "stream",
     "text": [
      "                                 OLS Regression Results                                \n",
      "=======================================================================================\n",
      "Dep. Variable:        number_of_bikes   R-squared (uncentered):                   0.944\n",
      "Model:                            OLS   Adj. R-squared (uncentered):              0.937\n",
      "Method:                 Least Squares   F-statistic:                              127.3\n",
      "Date:                Sat, 13 Apr 2024   Prob (F-statistic):                    3.90e-10\n",
      "Time:                        19:56:48   Log-Likelihood:                         -38.668\n",
      "No. Observations:                  17   AIC:                                      81.34\n",
      "Df Residuals:                      15   BIC:                                      83.00\n",
      "Df Model:                           2                                                  \n",
      "Covariance Type:            nonrobust                                                  \n",
      "====================================================================================\n",
      "                       coef    std err          t      P>|t|      [0.025      0.975]\n",
      "------------------------------------------------------------------------------------\n",
      "avg_review_count     0.0097      0.049      0.198      0.846      -0.095       0.114\n",
      "avg_rating           2.2876      0.238      9.615      0.000       1.780       2.795\n",
      "==============================================================================\n",
      "Omnibus:                        0.842   Durbin-Watson:                   3.164\n",
      "Prob(Omnibus):                  0.656   Jarque-Bera (JB):                0.195\n",
      "Skew:                           0.259   Prob(JB):                        0.907\n",
      "Kurtosis:                       3.074   Cond. No.                         8.14\n",
      "==============================================================================\n",
      "\n",
      "Notes:\n",
      "[1] R² is computed without centering (uncentered) since the model does not contain a constant.\n",
      "[2] Standard Errors assume that the covariance matrix of the errors is correctly specified.\n"
     ]
    },
    {
     "name": "stderr",
     "output_type": "stream",
     "text": [
      "/opt/homebrew/Caskroom/miniforge/base/envs/base_env/lib/python3.8/site-packages/scipy/stats/_stats_py.py:1736: UserWarning: kurtosistest only valid for n>=20 ... continuing anyway, n=17\n",
      "  warnings.warn(\"kurtosistest only valid for n>=20 ... continuing \"\n"
     ]
    }
   ],
   "source": [
    "import statsmodels.api as sm\n",
    "\n",
    "y = df['number_of_bikes']\n",
    "x = df[['avg_review_count', 'avg_rating']]\n",
    "\n",
    "lin_reg = sm.OLS(y, x)\n",
    "\n",
    "model = lin_reg.fit()\n",
    "print_model = model.summary()\n",
    "print(print_model)"
   ]
  },
  {
   "cell_type": "markdown",
   "metadata": {},
   "source": [
    "Removed review_count due to the low p-value in order to get the best of fit model"
   ]
  },
  {
   "cell_type": "code",
   "execution_count": 72,
   "metadata": {},
   "outputs": [
    {
     "name": "stdout",
     "output_type": "stream",
     "text": [
      "                                 OLS Regression Results                                \n",
      "=======================================================================================\n",
      "Dep. Variable:        number_of_bikes   R-squared (uncentered):                   0.944\n",
      "Model:                            OLS   Adj. R-squared (uncentered):              0.941\n",
      "Method:                 Least Squares   F-statistic:                              270.7\n",
      "Date:                Sat, 13 Apr 2024   Prob (F-statistic):                    1.89e-11\n",
      "Time:                        19:47:35   Log-Likelihood:                         -38.690\n",
      "No. Observations:                  17   AIC:                                      79.38\n",
      "Df Residuals:                      16   BIC:                                      80.21\n",
      "Df Model:                           1                                                  \n",
      "Covariance Type:            nonrobust                                                  \n",
      "==============================================================================\n",
      "                 coef    std err          t      P>|t|      [0.025      0.975]\n",
      "------------------------------------------------------------------------------\n",
      "avg_rating     2.3248      0.141     16.454      0.000       2.025       2.624\n",
      "==============================================================================\n",
      "Omnibus:                        1.155   Durbin-Watson:                   3.195\n",
      "Prob(Omnibus):                  0.561   Jarque-Bera (JB):                0.325\n",
      "Skew:                           0.330   Prob(JB):                        0.850\n",
      "Kurtosis:                       3.152   Cond. No.                         1.00\n",
      "==============================================================================\n",
      "\n",
      "Notes:\n",
      "[1] R² is computed without centering (uncentered) since the model does not contain a constant.\n",
      "[2] Standard Errors assume that the covariance matrix of the errors is correctly specified.\n"
     ]
    },
    {
     "name": "stderr",
     "output_type": "stream",
     "text": [
      "/opt/homebrew/Caskroom/miniforge/base/envs/base_env/lib/python3.8/site-packages/scipy/stats/_stats_py.py:1736: UserWarning: kurtosistest only valid for n>=20 ... continuing anyway, n=17\n",
      "  warnings.warn(\"kurtosistest only valid for n>=20 ... continuing \"\n"
     ]
    }
   ],
   "source": [
    "x = df['avg_rating']\n",
    "\n",
    "lin_reg = sm.OLS(y, x)\n",
    "\n",
    "model = lin_reg.fit()\n",
    "print_model = model.summary()\n",
    "print(print_model)"
   ]
  },
  {
   "cell_type": "markdown",
   "metadata": {},
   "source": [
    "From the regression model it can be inferred that there is a correlation between the number of bikes in a station and the average rating of restaurants nearby that station. Both the low p-value and the high Adj. R-squared indicates that the model is a good fit. Although there is an error at the bottom that suggests the model may not be as reliable due to the small sample size."
   ]
  },
  {
   "cell_type": "markdown",
   "metadata": {},
   "source": [
    "# Stretch"
   ]
  },
  {
   "cell_type": "markdown",
   "metadata": {},
   "source": [
    "#### How can you turn the regression model into a classification model?"
   ]
  },
  {
   "cell_type": "markdown",
   "metadata": {},
   "source": [
    "It is possible to change the regression model into a classification model by splitting the rating into a 'high' or 'low' rating. By changing the datatype into object, or categorical type and any rating that is higher than 2.5 being 'high' and anything below being 'low'. \n",
    "Then using this new rating column and the number of bikes, its possible to create a classification problem where the number of bikes could predict whether it would be a high or low rating."
   ]
  }
 ],
 "metadata": {
  "kernelspec": {
   "display_name": "Python 3 (ipykernel)",
   "language": "python",
   "name": "python3"
  },
  "language_info": {
   "codemirror_mode": {
    "name": "ipython",
    "version": 3
   },
   "file_extension": ".py",
   "mimetype": "text/x-python",
   "name": "python",
   "nbconvert_exporter": "python",
   "pygments_lexer": "ipython3",
   "version": "3.8.18"
  }
 },
 "nbformat": 4,
 "nbformat_minor": 4
}
