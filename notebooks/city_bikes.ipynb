{
 "cells": [
  {
   "cell_type": "markdown",
   "metadata": {},
   "source": [
    "# CityBikes"
   ]
  },
  {
   "cell_type": "markdown",
   "metadata": {},
   "source": [
    "#### Send a request to CityBikes for the city of your choice. "
   ]
  },
  {
   "cell_type": "code",
   "execution_count": 1,
   "metadata": {},
   "outputs": [],
   "source": [
    "import requests\n",
    "\n",
    "request = requests.get('http://api.citybik.es/v2/networks/bicincitta-siena')\n",
    "bikes = request.json()"
   ]
  },
  {
   "cell_type": "markdown",
   "metadata": {},
   "source": [
    "#### Parse through the response to get the details you want for the bike stations in that city (latitude, longitude, number of bikes). "
   ]
  },
  {
   "cell_type": "code",
   "execution_count": 7,
   "metadata": {},
   "outputs": [],
   "source": [
    "latitude = []\n",
    "longitude = []\n",
    "number_of_bikes = []\n",
    "station_name = []\n",
    "\n",
    "for station in bikes['network']['stations']: # looping through stations to grab details\n",
    "    latitude.append(station['latitude'])\n",
    "    longitude.append(station['longitude'])\n",
    "    station_name.append(station['name'][4:]) # removing number in front of name\n",
    "    bikes_sum = station['empty_slots'] + station['free_bikes']\n",
    "    number_of_bikes.append(bikes_sum)\n",
    "\n",
    "bike_stations = {\n",
    "                 'latitude' : latitude,\n",
    "                 'longitude' : longitude,\n",
    "                 'number_of_bikes' : number_of_bikes,\n",
    "                 'station_name' : station_name\n",
    "                }"
   ]
  },
  {
   "cell_type": "markdown",
   "metadata": {},
   "source": [
    "#### Put your parsed results into a DataFrame."
   ]
  },
  {
   "cell_type": "code",
   "execution_count": 8,
   "metadata": {},
   "outputs": [
    {
     "data": {
      "text/html": [
       "<div>\n",
       "<style scoped>\n",
       "    .dataframe tbody tr th:only-of-type {\n",
       "        vertical-align: middle;\n",
       "    }\n",
       "\n",
       "    .dataframe tbody tr th {\n",
       "        vertical-align: top;\n",
       "    }\n",
       "\n",
       "    .dataframe thead th {\n",
       "        text-align: right;\n",
       "    }\n",
       "</style>\n",
       "<table border=\"1\" class=\"dataframe\">\n",
       "  <thead>\n",
       "    <tr style=\"text-align: right;\">\n",
       "      <th></th>\n",
       "      <th>latitude</th>\n",
       "      <th>longitude</th>\n",
       "      <th>number_of_bikes</th>\n",
       "      <th>station_name</th>\n",
       "    </tr>\n",
       "  </thead>\n",
       "  <tbody>\n",
       "    <tr>\n",
       "      <th>0</th>\n",
       "      <td>43.321600</td>\n",
       "      <td>11.327948</td>\n",
       "      <td>16</td>\n",
       "      <td>Curtatone</td>\n",
       "    </tr>\n",
       "    <tr>\n",
       "      <th>1</th>\n",
       "      <td>43.314554</td>\n",
       "      <td>11.331021</td>\n",
       "      <td>10</td>\n",
       "      <td>S. Agostino</td>\n",
       "    </tr>\n",
       "    <tr>\n",
       "      <th>2</th>\n",
       "      <td>43.316539</td>\n",
       "      <td>11.337212</td>\n",
       "      <td>7</td>\n",
       "      <td>S. Girolamo</td>\n",
       "    </tr>\n",
       "    <tr>\n",
       "      <th>3</th>\n",
       "      <td>43.320523</td>\n",
       "      <td>11.323225</td>\n",
       "      <td>10</td>\n",
       "      <td>Fortezza</td>\n",
       "    </tr>\n",
       "    <tr>\n",
       "      <th>4</th>\n",
       "      <td>43.328983</td>\n",
       "      <td>11.321913</td>\n",
       "      <td>10</td>\n",
       "      <td>Antiporto</td>\n",
       "    </tr>\n",
       "  </tbody>\n",
       "</table>\n",
       "</div>"
      ],
      "text/plain": [
       "    latitude  longitude  number_of_bikes station_name\n",
       "0  43.321600  11.327948               16    Curtatone\n",
       "1  43.314554  11.331021               10  S. Agostino\n",
       "2  43.316539  11.337212                7  S. Girolamo\n",
       "3  43.320523  11.323225               10     Fortezza\n",
       "4  43.328983  11.321913               10    Antiporto"
      ]
     },
     "execution_count": 8,
     "metadata": {},
     "output_type": "execute_result"
    }
   ],
   "source": [
    "import pandas as pd\n",
    "\n",
    "bike_stations = pd.DataFrame(bike_stations)\n",
    "\n",
    "bike_stations.head()"
   ]
  },
  {
   "cell_type": "markdown",
   "metadata": {},
   "source": [
    "#### Turn DataFrame into CSV file"
   ]
  },
  {
   "cell_type": "code",
   "execution_count": 4,
   "metadata": {},
   "outputs": [],
   "source": [
    "bike_stations.to_csv('bike_stations.csv', index=False)"
   ]
  }
 ],
 "metadata": {
  "kernelspec": {
   "display_name": "Python 3 (ipykernel)",
   "language": "python",
   "name": "python3"
  },
  "language_info": {
   "codemirror_mode": {
    "name": "ipython",
    "version": 3
   },
   "file_extension": ".py",
   "mimetype": "text/x-python",
   "name": "python",
   "nbconvert_exporter": "python",
   "pygments_lexer": "ipython3",
   "version": "3.8.18"
  }
 },
 "nbformat": 4,
 "nbformat_minor": 4
}
