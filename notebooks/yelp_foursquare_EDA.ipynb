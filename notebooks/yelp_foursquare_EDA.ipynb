{
 "cells": [
  {
   "cell_type": "code",
   "execution_count": 1,
   "metadata": {},
   "outputs": [],
   "source": [
    "import requests\n",
    "import pandas as pd\n",
    "import os"
   ]
  },
  {
   "cell_type": "markdown",
   "metadata": {},
   "source": [
    "# Foursquare"
   ]
  },
  {
   "cell_type": "markdown",
   "metadata": {},
   "source": [
    "#### Send a request to Foursquare with a small radius (1000m) for all the bike stations in your city of choice. "
   ]
  },
  {
   "cell_type": "code",
   "execution_count": 18,
   "metadata": {},
   "outputs": [],
   "source": [
    "bike_stations = pd.read_csv('bike_stations.csv')\n",
    "\n",
    "url = \"https://api.foursquare.com/v3/places/search\"\n",
    "\n",
    "headers = {\n",
    "           'accept' : 'application/JSON',\n",
    "           'Authorization' : os.getenv('FOURSQUARE_API_KEY')\n",
    "          }\n",
    "\n",
    "def request_places(row):\n",
    "    params = {\n",
    "             'll' : f\"{row['latitude']},{row['longitude']}\",\n",
    "             'radius' : 1000,\n",
    "             'query' : 'restaurant'\n",
    "             }\n",
    "    response = requests.get(url, headers=headers, params=params)\n",
    "    res = response.json()\n",
    "    places = pd.Series([row['station_name'], res])\n",
    "    return places\n",
    "\n",
    "foursquare_places = bike_stations.apply(request_places, axis=1)"
   ]
  },
  {
   "cell_type": "markdown",
   "metadata": {},
   "source": [
    "#### Parse through the response to get the POI (such as restaurants, bars, etc) details you want (ratings, name, location, etc)"
   ]
  },
  {
   "cell_type": "code",
   "execution_count": 17,
   "metadata": {},
   "outputs": [],
   "source": [
    "nearest_station_name = []\n",
    "restaurant_name = []\n",
    "distance = []\n",
    "address = []\n",
    "categories = []\n",
    "\n",
    "def get_details(row):\n",
    "    for restaurant in row[1]['results']:\n",
    "        restaurant_name.append(restaurant['name'])\n",
    "        distance.append(restaurant['distance'])\n",
    "        address.append(restaurant['location']['address'])\n",
    "        nearest_station_name.append(row[0])\n",
    "\n",
    "        restaurant_categories = []\n",
    "        for category in restaurant['categories']:  # add all categories into string\n",
    "            restaurant_categories.append(category['name'])\n",
    "        categories.append(', '.join(restaurant_categories))\n",
    "\n",
    "foursquare_places.apply(get_details, axis=1)\n",
    "\n",
    "foursquare_restaurants = {\n",
    "                         'restaurant_name' : restaurant_name,\n",
    "                         'categories' : categories,\n",
    "                         'address' : address,\n",
    "                         'station_name' : nearest_station_name,\n",
    "                         'distance' : distance,\n",
    "                        }"
   ]
  },
  {
   "cell_type": "markdown",
   "metadata": {},
   "source": [
    "#### Put your parsed results into a DataFrame"
   ]
  },
  {
   "cell_type": "code",
   "execution_count": 19,
   "metadata": {},
   "outputs": [
    {
     "data": {
      "text/html": [
       "<div>\n",
       "<style scoped>\n",
       "    .dataframe tbody tr th:only-of-type {\n",
       "        vertical-align: middle;\n",
       "    }\n",
       "\n",
       "    .dataframe tbody tr th {\n",
       "        vertical-align: top;\n",
       "    }\n",
       "\n",
       "    .dataframe thead th {\n",
       "        text-align: right;\n",
       "    }\n",
       "</style>\n",
       "<table border=\"1\" class=\"dataframe\">\n",
       "  <thead>\n",
       "    <tr style=\"text-align: right;\">\n",
       "      <th></th>\n",
       "      <th>restaurant_name</th>\n",
       "      <th>categories</th>\n",
       "      <th>address</th>\n",
       "      <th>station_name</th>\n",
       "      <th>distance</th>\n",
       "    </tr>\n",
       "  </thead>\n",
       "  <tbody>\n",
       "    <tr>\n",
       "      <th>0</th>\n",
       "      <td>Pizzeria Alle Scalette</td>\n",
       "      <td>Pizzeria</td>\n",
       "      <td>Viale Curtatone 18</td>\n",
       "      <td>Curtatone</td>\n",
       "      <td>22</td>\n",
       "    </tr>\n",
       "    <tr>\n",
       "      <th>1</th>\n",
       "      <td>Zest Ristorante &amp; Winebar</td>\n",
       "      <td>Wine Bar, Cafe, Coffee, and Tea House, Italian...</td>\n",
       "      <td>Costa di Sant'Antonio 13</td>\n",
       "      <td>Curtatone</td>\n",
       "      <td>179</td>\n",
       "    </tr>\n",
       "    <tr>\n",
       "      <th>2</th>\n",
       "      <td>Osteria Il Campaccio</td>\n",
       "      <td>Trattoria</td>\n",
       "      <td>Vicolo del Campaccio 2</td>\n",
       "      <td>Curtatone</td>\n",
       "      <td>176</td>\n",
       "    </tr>\n",
       "    <tr>\n",
       "      <th>3</th>\n",
       "      <td>Morbidi</td>\n",
       "      <td>Deli</td>\n",
       "      <td>Via B. di Sopra 73</td>\n",
       "      <td>Curtatone</td>\n",
       "      <td>248</td>\n",
       "    </tr>\n",
       "    <tr>\n",
       "      <th>4</th>\n",
       "      <td>Osteria L'Osteria</td>\n",
       "      <td>Italian Restaurant</td>\n",
       "      <td>Via dei Rossi 79</td>\n",
       "      <td>Curtatone</td>\n",
       "      <td>342</td>\n",
       "    </tr>\n",
       "  </tbody>\n",
       "</table>\n",
       "</div>"
      ],
      "text/plain": [
       "             restaurant_name  \\\n",
       "0     Pizzeria Alle Scalette   \n",
       "1  Zest Ristorante & Winebar   \n",
       "2       Osteria Il Campaccio   \n",
       "3                    Morbidi   \n",
       "4          Osteria L'Osteria   \n",
       "\n",
       "                                          categories  \\\n",
       "0                                           Pizzeria   \n",
       "1  Wine Bar, Cafe, Coffee, and Tea House, Italian...   \n",
       "2                                          Trattoria   \n",
       "3                                               Deli   \n",
       "4                                 Italian Restaurant   \n",
       "\n",
       "                    address station_name  distance  \n",
       "0        Viale Curtatone 18    Curtatone        22  \n",
       "1  Costa di Sant'Antonio 13    Curtatone       179  \n",
       "2    Vicolo del Campaccio 2    Curtatone       176  \n",
       "3        Via B. di Sopra 73    Curtatone       248  \n",
       "4          Via dei Rossi 79    Curtatone       342  "
      ]
     },
     "execution_count": 19,
     "metadata": {},
     "output_type": "execute_result"
    }
   ],
   "source": [
    "foursquare_restaurants = pd.DataFrame(foursquare_restaurants)\n",
    "\n",
    "foursquare_restaurants.head()"
   ]
  },
  {
   "cell_type": "markdown",
   "metadata": {},
   "source": [
    "# Yelp"
   ]
  },
  {
   "cell_type": "markdown",
   "metadata": {},
   "source": [
    "#### Send a request to Yelp with a small radius (1000m) for all the bike stations in your city of choice. "
   ]
  },
  {
   "cell_type": "code",
   "execution_count": 20,
   "metadata": {},
   "outputs": [],
   "source": [
    "url = \"https://api.yelp.com/v3/businesses/search\"\n",
    "\n",
    "headers = {'accept' : 'application/JSON',\n",
    "           'Authorization' : 'Bearer ' + os.getenv('YELP_KEY')}\n",
    "\n",
    "def request_places(row):\n",
    "    params = {\n",
    "              'latitude' : row['latitude'],\n",
    "              'longitude' : row['longitude'],\n",
    "              'radius' : 1000,\n",
    "              'categories' : 'restaurants'\n",
    "             }\n",
    "    response = requests.get(url, headers=headers, params=params)\n",
    "    res = response.json()\n",
    "    places = pd.Series([row['station_name'], res])\n",
    "    return places\n",
    "\n",
    "yelp_places = bike_stations.apply(request_places, axis=1)"
   ]
  },
  {
   "cell_type": "markdown",
   "metadata": {},
   "source": [
    "#### Parse through the response to get the POI (such as restaurants, bars, etc) details you want (ratings, name, location, etc)"
   ]
  },
  {
   "cell_type": "code",
   "execution_count": 8,
   "metadata": {},
   "outputs": [],
   "source": [
    "nearest_station_name = []\n",
    "restaurant_name = []\n",
    "distance = []\n",
    "address = []\n",
    "review_count = []\n",
    "rating = []\n",
    "categories = []\n",
    "\n",
    "def get_details(row):\n",
    "    for restaurant in row[1]['businesses']:\n",
    "        restaurant_name.append(restaurant['name'])\n",
    "        distance.append(restaurant['distance'])\n",
    "        address.append(restaurant['location']['address1'])\n",
    "        review_count.append(restaurant['review_count'])\n",
    "        rating.append(restaurant['rating'])\n",
    "\n",
    "        restaurant_categories = []\n",
    "        for category in restaurant['categories']:  # add all categories into string\n",
    "            restaurant_categories.append(category['title'])\n",
    "        categories.append(', '.join(restaurant_categories))\n",
    "\n",
    "        nearest_station_name.append(row[0])\n",
    "        \n",
    "\n",
    "yelp_places.apply(get_details, axis=1)\n",
    "\n",
    "yelp_restaurants = {\n",
    "                    'restaurant_name' : restaurant_name,\n",
    "                    'categories' : categories,\n",
    "                    'address' : address,\n",
    "                    'review_count' : review_count,\n",
    "                    'rating' : rating,\n",
    "                    'station_name' : nearest_station_name,\n",
    "                    'distance' : distance\n",
    "                    }\n",
    "                    "
   ]
  },
  {
   "cell_type": "markdown",
   "metadata": {},
   "source": [
    "#### Put your parsed results into a DataFrame"
   ]
  },
  {
   "cell_type": "code",
   "execution_count": 9,
   "metadata": {},
   "outputs": [
    {
     "data": {
      "text/html": [
       "<div>\n",
       "<style scoped>\n",
       "    .dataframe tbody tr th:only-of-type {\n",
       "        vertical-align: middle;\n",
       "    }\n",
       "\n",
       "    .dataframe tbody tr th {\n",
       "        vertical-align: top;\n",
       "    }\n",
       "\n",
       "    .dataframe thead th {\n",
       "        text-align: right;\n",
       "    }\n",
       "</style>\n",
       "<table border=\"1\" class=\"dataframe\">\n",
       "  <thead>\n",
       "    <tr style=\"text-align: right;\">\n",
       "      <th></th>\n",
       "      <th>restaurant_name</th>\n",
       "      <th>categories</th>\n",
       "      <th>address</th>\n",
       "      <th>review_count</th>\n",
       "      <th>rating</th>\n",
       "      <th>station_name</th>\n",
       "      <th>distance</th>\n",
       "    </tr>\n",
       "  </thead>\n",
       "  <tbody>\n",
       "    <tr>\n",
       "      <th>0</th>\n",
       "      <td>La Taverna di San Giuseppe</td>\n",
       "      <td>Tuscan</td>\n",
       "      <td>Via Giovanni Dupre 132</td>\n",
       "      <td>169</td>\n",
       "      <td>4.8</td>\n",
       "      <td>Curtatone</td>\n",
       "      <td>745.395007</td>\n",
       "    </tr>\n",
       "    <tr>\n",
       "      <th>1</th>\n",
       "      <td>Zest</td>\n",
       "      <td>Italian, Wine Bars</td>\n",
       "      <td>Costa di Sant'antonio 13</td>\n",
       "      <td>26</td>\n",
       "      <td>4.7</td>\n",
       "      <td>Curtatone</td>\n",
       "      <td>177.848119</td>\n",
       "    </tr>\n",
       "    <tr>\n",
       "      <th>2</th>\n",
       "      <td>Compagnia dei Vinattieri</td>\n",
       "      <td>Tuscan</td>\n",
       "      <td>Via delle Terme, 79</td>\n",
       "      <td>24</td>\n",
       "      <td>4.3</td>\n",
       "      <td>Curtatone</td>\n",
       "      <td>231.846606</td>\n",
       "    </tr>\n",
       "    <tr>\n",
       "      <th>3</th>\n",
       "      <td>La Chiacchiera</td>\n",
       "      <td>Italian</td>\n",
       "      <td>Via Costa di San Antonio 4</td>\n",
       "      <td>23</td>\n",
       "      <td>4.3</td>\n",
       "      <td>Curtatone</td>\n",
       "      <td>181.200690</td>\n",
       "    </tr>\n",
       "    <tr>\n",
       "      <th>4</th>\n",
       "      <td>Café Nannini</td>\n",
       "      <td>Cafes</td>\n",
       "      <td>Piazza Matteotti 32</td>\n",
       "      <td>14</td>\n",
       "      <td>4.4</td>\n",
       "      <td>Curtatone</td>\n",
       "      <td>60.451222</td>\n",
       "    </tr>\n",
       "  </tbody>\n",
       "</table>\n",
       "</div>"
      ],
      "text/plain": [
       "              restaurant_name          categories                     address  \\\n",
       "0  La Taverna di San Giuseppe              Tuscan      Via Giovanni Dupre 132   \n",
       "1                        Zest  Italian, Wine Bars    Costa di Sant'antonio 13   \n",
       "2    Compagnia dei Vinattieri              Tuscan         Via delle Terme, 79   \n",
       "3              La Chiacchiera             Italian  Via Costa di San Antonio 4   \n",
       "4                Café Nannini               Cafes         Piazza Matteotti 32   \n",
       "\n",
       "   review_count  rating station_name    distance  \n",
       "0           169     4.8    Curtatone  745.395007  \n",
       "1            26     4.7    Curtatone  177.848119  \n",
       "2            24     4.3    Curtatone  231.846606  \n",
       "3            23     4.3    Curtatone  181.200690  \n",
       "4            14     4.4    Curtatone   60.451222  "
      ]
     },
     "execution_count": 9,
     "metadata": {},
     "output_type": "execute_result"
    }
   ],
   "source": [
    "yelp_restaurants = pd.DataFrame(yelp_restaurants)\n",
    "\n",
    "yelp_restaurants.head()"
   ]
  },
  {
   "cell_type": "markdown",
   "metadata": {},
   "source": [
    "# Comparing Results"
   ]
  },
  {
   "cell_type": "markdown",
   "metadata": {},
   "source": [
    "#### Which API provided you with more complete data? Provide an explanation. "
   ]
  },
  {
   "cell_type": "code",
   "execution_count": 10,
   "metadata": {},
   "outputs": [
    {
     "name": "stdout",
     "output_type": "stream",
     "text": [
      "Yelp Shape: (214, 7)\n",
      "Foursquare Shape: (161, 5)\n"
     ]
    }
   ],
   "source": [
    "print(f'Yelp Shape: {yelp_restaurants.shape}')\n",
    "print(f'Foursquare Shape: {foursquare_restaurants.shape}')"
   ]
  },
  {
   "cell_type": "markdown",
   "metadata": {},
   "source": [
    "The Yelp API includes more detailed data as well as has higher number of restaurants compared to the Foursquare API. With this information the Yelp API provides better coverage of data than the Foursquare API."
   ]
  },
  {
   "cell_type": "markdown",
   "metadata": {},
   "source": [
    "#### Get the top 10 restaurants according to their rating"
   ]
  },
  {
   "cell_type": "code",
   "execution_count": 11,
   "metadata": {},
   "outputs": [
    {
     "data": {
      "text/html": [
       "<div>\n",
       "<style scoped>\n",
       "    .dataframe tbody tr th:only-of-type {\n",
       "        vertical-align: middle;\n",
       "    }\n",
       "\n",
       "    .dataframe tbody tr th {\n",
       "        vertical-align: top;\n",
       "    }\n",
       "\n",
       "    .dataframe thead th {\n",
       "        text-align: right;\n",
       "    }\n",
       "</style>\n",
       "<table border=\"1\" class=\"dataframe\">\n",
       "  <thead>\n",
       "    <tr style=\"text-align: right;\">\n",
       "      <th></th>\n",
       "      <th>restaurant_name</th>\n",
       "      <th>categories</th>\n",
       "      <th>address</th>\n",
       "      <th>review_count</th>\n",
       "      <th>rating</th>\n",
       "      <th>station_name</th>\n",
       "      <th>distance</th>\n",
       "    </tr>\n",
       "  </thead>\n",
       "  <tbody>\n",
       "    <tr>\n",
       "      <th>174</th>\n",
       "      <td>Mugolone</td>\n",
       "      <td>Italian, Gluten-Free</td>\n",
       "      <td>Via dei Pellegrini 8</td>\n",
       "      <td>7</td>\n",
       "      <td>5.0</td>\n",
       "      <td>Casa dell'Ambiente</td>\n",
       "      <td>968.765622</td>\n",
       "    </tr>\n",
       "    <tr>\n",
       "      <th>198</th>\n",
       "      <td>Mugolone</td>\n",
       "      <td>Italian, Gluten-Free</td>\n",
       "      <td>Via dei Pellegrini 8</td>\n",
       "      <td>7</td>\n",
       "      <td>5.0</td>\n",
       "      <td>Mercato</td>\n",
       "      <td>253.346444</td>\n",
       "    </tr>\n",
       "    <tr>\n",
       "      <th>59</th>\n",
       "      <td>L'orto de' pecci</td>\n",
       "      <td>Italian</td>\n",
       "      <td>Via di Porta Giustizia 39</td>\n",
       "      <td>2</td>\n",
       "      <td>5.0</td>\n",
       "      <td>S. Girolamo</td>\n",
       "      <td>250.275712</td>\n",
       "    </tr>\n",
       "    <tr>\n",
       "      <th>102</th>\n",
       "      <td>Albergo Certosa di Maggiano</td>\n",
       "      <td>Hotels &amp; Travel, Restaurants</td>\n",
       "      <td>Str. di Certosa, 82</td>\n",
       "      <td>2</td>\n",
       "      <td>5.0</td>\n",
       "      <td>Due Ponti</td>\n",
       "      <td>822.545866</td>\n",
       "    </tr>\n",
       "    <tr>\n",
       "      <th>101</th>\n",
       "      <td>Havana Club</td>\n",
       "      <td>Cuban, Steakhouses</td>\n",
       "      <td>Piazza Maestri del Lavoro 27</td>\n",
       "      <td>1</td>\n",
       "      <td>5.0</td>\n",
       "      <td>Due Ponti</td>\n",
       "      <td>217.539983</td>\n",
       "    </tr>\n",
       "    <tr>\n",
       "      <th>106</th>\n",
       "      <td>Antica Trattoria Botteganova</td>\n",
       "      <td>Italian, Bars</td>\n",
       "      <td>Strada Chiantigiana 29</td>\n",
       "      <td>1</td>\n",
       "      <td>5.0</td>\n",
       "      <td>Napoli</td>\n",
       "      <td>659.400589</td>\n",
       "    </tr>\n",
       "    <tr>\n",
       "      <th>144</th>\n",
       "      <td>La Grotta di San Francesco</td>\n",
       "      <td>Seafood, Tuscan</td>\n",
       "      <td>Via Camollia 25</td>\n",
       "      <td>1</td>\n",
       "      <td>5.0</td>\n",
       "      <td>Terminal Bus</td>\n",
       "      <td>1000.171874</td>\n",
       "    </tr>\n",
       "    <tr>\n",
       "      <th>147</th>\n",
       "      <td>Pasta Mondo</td>\n",
       "      <td>Pizza, Italian, Pasta Shops</td>\n",
       "      <td>Via Camollia 173</td>\n",
       "      <td>1</td>\n",
       "      <td>5.0</td>\n",
       "      <td>Terminal Bus</td>\n",
       "      <td>660.627489</td>\n",
       "    </tr>\n",
       "    <tr>\n",
       "      <th>148</th>\n",
       "      <td>Cartazucchero</td>\n",
       "      <td>Used Bookstore, Bookstores, Cafeteria</td>\n",
       "      <td>Via Camollia 92</td>\n",
       "      <td>1</td>\n",
       "      <td>5.0</td>\n",
       "      <td>Terminal Bus</td>\n",
       "      <td>795.297447</td>\n",
       "    </tr>\n",
       "    <tr>\n",
       "      <th>152</th>\n",
       "      <td>Medo Cucina Arte &amp; Vino</td>\n",
       "      <td>Vegetarian</td>\n",
       "      <td>Piazza del Sale 3</td>\n",
       "      <td>1</td>\n",
       "      <td>5.0</td>\n",
       "      <td>Terminal Bus</td>\n",
       "      <td>967.184559</td>\n",
       "    </tr>\n",
       "  </tbody>\n",
       "</table>\n",
       "</div>"
      ],
      "text/plain": [
       "                  restaurant_name                             categories  \\\n",
       "174                      Mugolone                   Italian, Gluten-Free   \n",
       "198                      Mugolone                   Italian, Gluten-Free   \n",
       "59               L'orto de' pecci                                Italian   \n",
       "102   Albergo Certosa di Maggiano           Hotels & Travel, Restaurants   \n",
       "101                   Havana Club                     Cuban, Steakhouses   \n",
       "106  Antica Trattoria Botteganova                          Italian, Bars   \n",
       "144    La Grotta di San Francesco                        Seafood, Tuscan   \n",
       "147                   Pasta Mondo            Pizza, Italian, Pasta Shops   \n",
       "148                 Cartazucchero  Used Bookstore, Bookstores, Cafeteria   \n",
       "152       Medo Cucina Arte & Vino                             Vegetarian   \n",
       "\n",
       "                          address  review_count  rating        station_name  \\\n",
       "174          Via dei Pellegrini 8             7     5.0  Casa dell'Ambiente   \n",
       "198          Via dei Pellegrini 8             7     5.0             Mercato   \n",
       "59      Via di Porta Giustizia 39             2     5.0         S. Girolamo   \n",
       "102           Str. di Certosa, 82             2     5.0           Due Ponti   \n",
       "101  Piazza Maestri del Lavoro 27             1     5.0           Due Ponti   \n",
       "106        Strada Chiantigiana 29             1     5.0              Napoli   \n",
       "144               Via Camollia 25             1     5.0        Terminal Bus   \n",
       "147              Via Camollia 173             1     5.0        Terminal Bus   \n",
       "148               Via Camollia 92             1     5.0        Terminal Bus   \n",
       "152             Piazza del Sale 3             1     5.0        Terminal Bus   \n",
       "\n",
       "        distance  \n",
       "174   968.765622  \n",
       "198   253.346444  \n",
       "59    250.275712  \n",
       "102   822.545866  \n",
       "101   217.539983  \n",
       "106   659.400589  \n",
       "144  1000.171874  \n",
       "147   660.627489  \n",
       "148   795.297447  \n",
       "152   967.184559  "
      ]
     },
     "execution_count": 11,
     "metadata": {},
     "output_type": "execute_result"
    }
   ],
   "source": [
    "yelp_restaurants.sort_values(['rating', 'review_count'], ascending=False).head(10)"
   ]
  },
  {
   "cell_type": "markdown",
   "metadata": {},
   "source": [
    "#### Turn API DataFrame's into CSV's"
   ]
  },
  {
   "cell_type": "code",
   "execution_count": 13,
   "metadata": {},
   "outputs": [],
   "source": [
    "foursquare_restaurants.to_csv('foursquare_restaurants.csv', index=False)\n",
    "\n",
    "yelp_restaurants.to_csv('yelp_restaurants.csv', index=False)"
   ]
  }
 ],
 "metadata": {
  "kernelspec": {
   "display_name": "Python 3 (ipykernel)",
   "language": "python",
   "name": "python3"
  },
  "language_info": {
   "codemirror_mode": {
    "name": "ipython",
    "version": 3
   },
   "file_extension": ".py",
   "mimetype": "text/x-python",
   "name": "python",
   "nbconvert_exporter": "python",
   "pygments_lexer": "ipython3",
   "version": "3.8.18"
  }
 },
 "nbformat": 4,
 "nbformat_minor": 4
}
