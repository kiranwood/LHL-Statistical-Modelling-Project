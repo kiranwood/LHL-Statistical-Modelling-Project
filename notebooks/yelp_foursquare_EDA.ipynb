{
 "cells": [
  {
   "cell_type": "code",
   "execution_count": 1,
   "metadata": {},
   "outputs": [],
   "source": [
    "import requests\n",
    "import pandas as pd\n",
    "import os"
   ]
  },
  {
   "cell_type": "markdown",
   "metadata": {},
   "source": [
    "# Foursquare"
   ]
  },
  {
   "cell_type": "markdown",
   "metadata": {},
   "source": [
    "#### Send a request to Foursquare with a small radius (1000m) for all the bike stations in your city of choice. "
   ]
  },
  {
   "cell_type": "code",
   "execution_count": 2,
   "metadata": {},
   "outputs": [],
   "source": [
    "bike_stations = pd.read_csv('bike_stations.csv')\n",
    "\n",
    "url = \"https://api.foursquare.com/v3/places/search\"\n",
    "\n",
    "headers = {'accept' : 'application/JSON',\n",
    "           'Authorization' : os.getenv('FOURSQUARE_API_KEY')}\n",
    "\n",
    "def request_places(row):\n",
    "    params = {'ll' : f\"{row['latitude']},{row['longitude']}\",\n",
    "             'radius' : 1000,\n",
    "             'query' : 'resturant'}\n",
    "    response = requests.get(url, headers=headers, params=params)\n",
    "    res = response.json()\n",
    "    places = pd.Series([row['station_name'], res])\n",
    "    return places\n",
    "\n",
    "foursquare_places = bike_stations.apply(request_places, axis=1)"
   ]
  },
  {
   "cell_type": "markdown",
   "metadata": {},
   "source": [
    "#### Parse through the response to get the POI (such as restaurants, bars, etc) details you want (ratings, name, location, etc)"
   ]
  },
  {
   "cell_type": "code",
   "execution_count": 102,
   "metadata": {},
   "outputs": [],
   "source": [
    "nearest_station_name = []\n",
    "resturant_name = []\n",
    "distance = []\n",
    "address = []\n",
    "categories = []\n",
    "\n",
    "def get_details(row):\n",
    "    for resturant in row[1]['results']:\n",
    "        resturant_name.append(resturant['name'])\n",
    "        distance.append(resturant['distance'])\n",
    "        address.append(resturant['location']['address'])\n",
    "        nearest_station_name.append(row[0])\n",
    "\n",
    "        resturant_categories = []\n",
    "        for category in resturant['categories']:\n",
    "            resturant_categories.append(category['name'])\n",
    "        categories.append(', '.join(resturant_categories))\n",
    "\n",
    "foursquare_places.apply(get_details, axis=1)\n",
    "\n",
    "foursquare_resturants = {\n",
    "                         'resturant_name' : resturant_name,\n",
    "                         'categories' : categories,\n",
    "                         'address' : address,\n",
    "                         'station_name' : nearest_station_name,\n",
    "                         'distance' : distance,\n",
    "                        }"
   ]
  },
  {
   "cell_type": "markdown",
   "metadata": {},
   "source": [
    "Put your parsed results into a DataFrame"
   ]
  },
  {
   "cell_type": "code",
   "execution_count": 104,
   "metadata": {},
   "outputs": [
    {
     "data": {
      "text/html": [
       "<div>\n",
       "<style scoped>\n",
       "    .dataframe tbody tr th:only-of-type {\n",
       "        vertical-align: middle;\n",
       "    }\n",
       "\n",
       "    .dataframe tbody tr th {\n",
       "        vertical-align: top;\n",
       "    }\n",
       "\n",
       "    .dataframe thead th {\n",
       "        text-align: right;\n",
       "    }\n",
       "</style>\n",
       "<table border=\"1\" class=\"dataframe\">\n",
       "  <thead>\n",
       "    <tr style=\"text-align: right;\">\n",
       "      <th></th>\n",
       "      <th>resturant_name</th>\n",
       "      <th>categories</th>\n",
       "      <th>address</th>\n",
       "      <th>station_name</th>\n",
       "      <th>distance</th>\n",
       "    </tr>\n",
       "  </thead>\n",
       "  <tbody>\n",
       "    <tr>\n",
       "      <th>0</th>\n",
       "      <td>Pizzeria Alle Scalette</td>\n",
       "      <td>Pizzeria</td>\n",
       "      <td>Viale Curtatone 18</td>\n",
       "      <td>Curtatone</td>\n",
       "      <td>22</td>\n",
       "    </tr>\n",
       "    <tr>\n",
       "      <th>1</th>\n",
       "      <td>Grom</td>\n",
       "      <td>Ice Cream Parlor, Restaurant</td>\n",
       "      <td>13 Via Banchi di Sopra 11</td>\n",
       "      <td>Curtatone</td>\n",
       "      <td>367</td>\n",
       "    </tr>\n",
       "    <tr>\n",
       "      <th>2</th>\n",
       "      <td>Osteria L'Osteria</td>\n",
       "      <td>Italian Restaurant</td>\n",
       "      <td>Via dei Rossi 79</td>\n",
       "      <td>Curtatone</td>\n",
       "      <td>342</td>\n",
       "    </tr>\n",
       "    <tr>\n",
       "      <th>3</th>\n",
       "      <td>Il Masgalano</td>\n",
       "      <td>Café, Gelato Shop</td>\n",
       "      <td>Via Camporegio 1</td>\n",
       "      <td>Curtatone</td>\n",
       "      <td>156</td>\n",
       "    </tr>\n",
       "    <tr>\n",
       "      <th>4</th>\n",
       "      <td>Ristorante San Domenico</td>\n",
       "      <td>Restaurant</td>\n",
       "      <td>Via Camporegio 17</td>\n",
       "      <td>Curtatone</td>\n",
       "      <td>170</td>\n",
       "    </tr>\n",
       "  </tbody>\n",
       "</table>\n",
       "</div>"
      ],
      "text/plain": [
       "            resturant_name                    categories  \\\n",
       "0   Pizzeria Alle Scalette                      Pizzeria   \n",
       "1                     Grom  Ice Cream Parlor, Restaurant   \n",
       "2        Osteria L'Osteria            Italian Restaurant   \n",
       "3             Il Masgalano             Café, Gelato Shop   \n",
       "4  Ristorante San Domenico                    Restaurant   \n",
       "\n",
       "                     address station_name  distance  \n",
       "0         Viale Curtatone 18    Curtatone        22  \n",
       "1  13 Via Banchi di Sopra 11    Curtatone       367  \n",
       "2           Via dei Rossi 79    Curtatone       342  \n",
       "3           Via Camporegio 1    Curtatone       156  \n",
       "4          Via Camporegio 17    Curtatone       170  "
      ]
     },
     "execution_count": 104,
     "metadata": {},
     "output_type": "execute_result"
    }
   ],
   "source": [
    "foursquare_resturants = pd.DataFrame(foursquare_resturants)\n",
    "\n",
    "foursquare_resturants.head()"
   ]
  },
  {
   "cell_type": "markdown",
   "metadata": {},
   "source": [
    "# Yelp"
   ]
  },
  {
   "cell_type": "markdown",
   "metadata": {},
   "source": [
    "#### Send a request to Yelp with a small radius (1000m) for all the bike stations in your city of choice. "
   ]
  },
  {
   "cell_type": "code",
   "execution_count": 105,
   "metadata": {},
   "outputs": [],
   "source": [
    "url = \"https://api.yelp.com/v3/businesses/search\"\n",
    "\n",
    "headers = {'accept' : 'application/JSON',\n",
    "           'Authorization' : 'Bearer ' + os.getenv('YELP_KEY')}\n",
    "\n",
    "def request_places(row):\n",
    "    params = {'latitude' : row['latitude'],\n",
    "              'longitude' : row['longitude'],\n",
    "              'radius' : 1000,\n",
    "              'categories' : 'resturants'\n",
    "             }\n",
    "    response = requests.get(url, headers=headers, params=params)\n",
    "    res = response.json()\n",
    "    places = pd.Series([row['station_name'], res])\n",
    "    return places\n",
    "\n",
    "yelp_places = bike_stations.apply(request_places, axis=1)\n",
    "\n"
   ]
  },
  {
   "cell_type": "markdown",
   "metadata": {},
   "source": [
    "#### Parse through the response to get the POI (such as restaurants, bars, etc) details you want (ratings, name, location, etc)"
   ]
  },
  {
   "cell_type": "code",
   "execution_count": 106,
   "metadata": {},
   "outputs": [],
   "source": [
    "nearest_station_name = []\n",
    "resturant_name = []\n",
    "distance = []\n",
    "address = []\n",
    "review_count = []\n",
    "rating = []\n",
    "categories = []\n",
    "\n",
    "def get_details(row):\n",
    "    for resturant in row[1]['businesses']:\n",
    "        resturant_name.append(resturant['name'])\n",
    "        distance.append(resturant['distance'])\n",
    "        address.append(resturant['location']['address1'])\n",
    "        review_count.append(resturant['review_count'])\n",
    "        rating.append(resturant['rating'])\n",
    "\n",
    "        resturant_categories = []\n",
    "        for category in resturant['categories']:\n",
    "            resturant_categories.append(category['title'])\n",
    "        categories.append(', '.join(resturant_categories))\n",
    "\n",
    "        nearest_station_name.append(row[0])\n",
    "        \n",
    "\n",
    "yelp_places.apply(get_details, axis=1)\n",
    "\n",
    "yelp_resturants = {\n",
    "                    'resturant_name' : resturant_name,\n",
    "                    'categories' : categories,\n",
    "                    'address' : address,\n",
    "                    'review_count' : review_count,\n",
    "                    'rating' : rating,\n",
    "                    'station_name' : nearest_station_name,\n",
    "                    'distance' : distance\n",
    "                    }\n",
    "                    "
   ]
  },
  {
   "cell_type": "markdown",
   "metadata": {},
   "source": [
    "#### Put your parsed results into a DataFrame"
   ]
  },
  {
   "cell_type": "code",
   "execution_count": 107,
   "metadata": {},
   "outputs": [
    {
     "data": {
      "text/html": [
       "<div>\n",
       "<style scoped>\n",
       "    .dataframe tbody tr th:only-of-type {\n",
       "        vertical-align: middle;\n",
       "    }\n",
       "\n",
       "    .dataframe tbody tr th {\n",
       "        vertical-align: top;\n",
       "    }\n",
       "\n",
       "    .dataframe thead th {\n",
       "        text-align: right;\n",
       "    }\n",
       "</style>\n",
       "<table border=\"1\" class=\"dataframe\">\n",
       "  <thead>\n",
       "    <tr style=\"text-align: right;\">\n",
       "      <th></th>\n",
       "      <th>resturant_name</th>\n",
       "      <th>categories</th>\n",
       "      <th>address</th>\n",
       "      <th>review_count</th>\n",
       "      <th>rating</th>\n",
       "      <th>station_name</th>\n",
       "      <th>distance</th>\n",
       "    </tr>\n",
       "  </thead>\n",
       "  <tbody>\n",
       "    <tr>\n",
       "      <th>0</th>\n",
       "      <td>La Taverna di San Giuseppe</td>\n",
       "      <td>Tuscan</td>\n",
       "      <td>Via Giovanni Dupre 132</td>\n",
       "      <td>169</td>\n",
       "      <td>4.8</td>\n",
       "      <td>Curtatone</td>\n",
       "      <td>745.395007</td>\n",
       "    </tr>\n",
       "    <tr>\n",
       "      <th>1</th>\n",
       "      <td>Zest</td>\n",
       "      <td>Italian, Wine Bars</td>\n",
       "      <td>Costa di Sant'antonio 13</td>\n",
       "      <td>26</td>\n",
       "      <td>4.7</td>\n",
       "      <td>Curtatone</td>\n",
       "      <td>177.848119</td>\n",
       "    </tr>\n",
       "    <tr>\n",
       "      <th>2</th>\n",
       "      <td>Compagnia dei Vinattieri</td>\n",
       "      <td>Tuscan</td>\n",
       "      <td>Via delle Terme, 79</td>\n",
       "      <td>24</td>\n",
       "      <td>4.3</td>\n",
       "      <td>Curtatone</td>\n",
       "      <td>231.846606</td>\n",
       "    </tr>\n",
       "    <tr>\n",
       "      <th>3</th>\n",
       "      <td>La Chiacchiera</td>\n",
       "      <td>Italian</td>\n",
       "      <td>Via Costa di San Antonio 4</td>\n",
       "      <td>23</td>\n",
       "      <td>4.3</td>\n",
       "      <td>Curtatone</td>\n",
       "      <td>181.200690</td>\n",
       "    </tr>\n",
       "    <tr>\n",
       "      <th>4</th>\n",
       "      <td>Café Nannini</td>\n",
       "      <td>Cafes</td>\n",
       "      <td>Piazza Matteotti 32</td>\n",
       "      <td>14</td>\n",
       "      <td>4.4</td>\n",
       "      <td>Curtatone</td>\n",
       "      <td>60.451222</td>\n",
       "    </tr>\n",
       "  </tbody>\n",
       "</table>\n",
       "</div>"
      ],
      "text/plain": [
       "               resturant_name          categories                     address  \\\n",
       "0  La Taverna di San Giuseppe              Tuscan      Via Giovanni Dupre 132   \n",
       "1                        Zest  Italian, Wine Bars    Costa di Sant'antonio 13   \n",
       "2    Compagnia dei Vinattieri              Tuscan         Via delle Terme, 79   \n",
       "3              La Chiacchiera             Italian  Via Costa di San Antonio 4   \n",
       "4                Café Nannini               Cafes         Piazza Matteotti 32   \n",
       "\n",
       "   review_count  rating station_name    distance  \n",
       "0           169     4.8    Curtatone  745.395007  \n",
       "1            26     4.7    Curtatone  177.848119  \n",
       "2            24     4.3    Curtatone  231.846606  \n",
       "3            23     4.3    Curtatone  181.200690  \n",
       "4            14     4.4    Curtatone   60.451222  "
      ]
     },
     "execution_count": 107,
     "metadata": {},
     "output_type": "execute_result"
    }
   ],
   "source": [
    "yelp_resturants = pd.DataFrame(yelp_resturants)\n",
    "\n",
    "yelp_resturants.head()"
   ]
  },
  {
   "cell_type": "markdown",
   "metadata": {},
   "source": [
    "# Comparing Results"
   ]
  },
  {
   "cell_type": "markdown",
   "metadata": {},
   "source": [
    "#### Which API provided you with more complete data? Provide an explanation. "
   ]
  },
  {
   "cell_type": "code",
   "execution_count": 108,
   "metadata": {},
   "outputs": [
    {
     "name": "stdout",
     "output_type": "stream",
     "text": [
      "Yelp Shape: (220, 7)\n",
      "Foursquare Shape: (168, 5)\n"
     ]
    }
   ],
   "source": [
    "print(f'Yelp Shape: {yelp_resturants.shape}')\n",
    "print(f'Foursquare Shape: {foursquare_resturants.shape}')"
   ]
  },
  {
   "cell_type": "markdown",
   "metadata": {},
   "source": [
    "The Yelp API includes more detailed data as well as has higher number of resturants compared to the Foursquare API. With this information the Yelp API provides better coverage of data than the Foursquare API."
   ]
  },
  {
   "cell_type": "markdown",
   "metadata": {},
   "source": [
    "#### Get the top 10 restaurants according to their rating"
   ]
  },
  {
   "cell_type": "code",
   "execution_count": 109,
   "metadata": {},
   "outputs": [
    {
     "data": {
      "text/html": [
       "<div>\n",
       "<style scoped>\n",
       "    .dataframe tbody tr th:only-of-type {\n",
       "        vertical-align: middle;\n",
       "    }\n",
       "\n",
       "    .dataframe tbody tr th {\n",
       "        vertical-align: top;\n",
       "    }\n",
       "\n",
       "    .dataframe thead th {\n",
       "        text-align: right;\n",
       "    }\n",
       "</style>\n",
       "<table border=\"1\" class=\"dataframe\">\n",
       "  <thead>\n",
       "    <tr style=\"text-align: right;\">\n",
       "      <th></th>\n",
       "      <th>resturant_name</th>\n",
       "      <th>categories</th>\n",
       "      <th>address</th>\n",
       "      <th>review_count</th>\n",
       "      <th>rating</th>\n",
       "      <th>station_name</th>\n",
       "      <th>distance</th>\n",
       "    </tr>\n",
       "  </thead>\n",
       "  <tbody>\n",
       "    <tr>\n",
       "      <th>176</th>\n",
       "      <td>Mugolone</td>\n",
       "      <td>Italian, Gluten-Free</td>\n",
       "      <td>Via dei Pellegrini 8</td>\n",
       "      <td>7</td>\n",
       "      <td>5.0</td>\n",
       "      <td>Casa dell'Ambiente</td>\n",
       "      <td>968.765622</td>\n",
       "    </tr>\n",
       "    <tr>\n",
       "      <th>206</th>\n",
       "      <td>Mugolone</td>\n",
       "      <td>Italian, Gluten-Free</td>\n",
       "      <td>Via dei Pellegrini 8</td>\n",
       "      <td>7</td>\n",
       "      <td>5.0</td>\n",
       "      <td>Mercato</td>\n",
       "      <td>253.346444</td>\n",
       "    </tr>\n",
       "    <tr>\n",
       "      <th>102</th>\n",
       "      <td>Albergo Certosa di Maggiano</td>\n",
       "      <td>Hotels &amp; Travel, Restaurants</td>\n",
       "      <td>Str. di Certosa, 82</td>\n",
       "      <td>2</td>\n",
       "      <td>5.0</td>\n",
       "      <td>Due Ponti</td>\n",
       "      <td>822.545866</td>\n",
       "    </tr>\n",
       "    <tr>\n",
       "      <th>149</th>\n",
       "      <td>La Mandorla</td>\n",
       "      <td>Desserts, Patisserie/Cake Shop, Ice Cream &amp; Fr...</td>\n",
       "      <td>Via Camollia 36</td>\n",
       "      <td>2</td>\n",
       "      <td>5.0</td>\n",
       "      <td>Terminal Bus</td>\n",
       "      <td>906.468202</td>\n",
       "    </tr>\n",
       "    <tr>\n",
       "      <th>186</th>\n",
       "      <td>BAR Il Barrino</td>\n",
       "      <td>Bars</td>\n",
       "      <td>Str. Massetana Romana, 5</td>\n",
       "      <td>2</td>\n",
       "      <td>5.0</td>\n",
       "      <td>Frajese</td>\n",
       "      <td>391.175672</td>\n",
       "    </tr>\n",
       "    <tr>\n",
       "      <th>99</th>\n",
       "      <td>Buti pasticceria</td>\n",
       "      <td>Chocolatiers &amp; Shops, Desserts</td>\n",
       "      <td>Viale Vittorio Emanuele II, 53</td>\n",
       "      <td>1</td>\n",
       "      <td>5.0</td>\n",
       "      <td>Antiporto</td>\n",
       "      <td>178.490110</td>\n",
       "    </tr>\n",
       "    <tr>\n",
       "      <th>101</th>\n",
       "      <td>Havana Club</td>\n",
       "      <td>Cuban, Steakhouses</td>\n",
       "      <td>Piazza Maestri del Lavoro 27</td>\n",
       "      <td>1</td>\n",
       "      <td>5.0</td>\n",
       "      <td>Due Ponti</td>\n",
       "      <td>217.539983</td>\n",
       "    </tr>\n",
       "    <tr>\n",
       "      <th>106</th>\n",
       "      <td>Antica Trattoria Botteganova</td>\n",
       "      <td>Italian, Bars</td>\n",
       "      <td>Strada Chiantigiana 29</td>\n",
       "      <td>1</td>\n",
       "      <td>5.0</td>\n",
       "      <td>Napoli</td>\n",
       "      <td>659.400589</td>\n",
       "    </tr>\n",
       "    <tr>\n",
       "      <th>145</th>\n",
       "      <td>La Grotta di San Francesco</td>\n",
       "      <td>Seafood, Tuscan</td>\n",
       "      <td>Via Camollia 25</td>\n",
       "      <td>1</td>\n",
       "      <td>5.0</td>\n",
       "      <td>Terminal Bus</td>\n",
       "      <td>1000.171874</td>\n",
       "    </tr>\n",
       "    <tr>\n",
       "      <th>150</th>\n",
       "      <td>Pasta Mondo</td>\n",
       "      <td>Pizza, Italian, Pasta Shops</td>\n",
       "      <td>Via Camollia 173</td>\n",
       "      <td>1</td>\n",
       "      <td>5.0</td>\n",
       "      <td>Terminal Bus</td>\n",
       "      <td>660.627489</td>\n",
       "    </tr>\n",
       "  </tbody>\n",
       "</table>\n",
       "</div>"
      ],
      "text/plain": [
       "                   resturant_name  \\\n",
       "176                      Mugolone   \n",
       "206                      Mugolone   \n",
       "102   Albergo Certosa di Maggiano   \n",
       "149                   La Mandorla   \n",
       "186                BAR Il Barrino   \n",
       "99               Buti pasticceria   \n",
       "101                   Havana Club   \n",
       "106  Antica Trattoria Botteganova   \n",
       "145    La Grotta di San Francesco   \n",
       "150                   Pasta Mondo   \n",
       "\n",
       "                                            categories  \\\n",
       "176                               Italian, Gluten-Free   \n",
       "206                               Italian, Gluten-Free   \n",
       "102                       Hotels & Travel, Restaurants   \n",
       "149  Desserts, Patisserie/Cake Shop, Ice Cream & Fr...   \n",
       "186                                               Bars   \n",
       "99                      Chocolatiers & Shops, Desserts   \n",
       "101                                 Cuban, Steakhouses   \n",
       "106                                      Italian, Bars   \n",
       "145                                    Seafood, Tuscan   \n",
       "150                        Pizza, Italian, Pasta Shops   \n",
       "\n",
       "                            address  review_count  rating        station_name  \\\n",
       "176            Via dei Pellegrini 8             7     5.0  Casa dell'Ambiente   \n",
       "206            Via dei Pellegrini 8             7     5.0             Mercato   \n",
       "102             Str. di Certosa, 82             2     5.0           Due Ponti   \n",
       "149                 Via Camollia 36             2     5.0        Terminal Bus   \n",
       "186        Str. Massetana Romana, 5             2     5.0             Frajese   \n",
       "99   Viale Vittorio Emanuele II, 53             1     5.0           Antiporto   \n",
       "101    Piazza Maestri del Lavoro 27             1     5.0           Due Ponti   \n",
       "106          Strada Chiantigiana 29             1     5.0              Napoli   \n",
       "145                 Via Camollia 25             1     5.0        Terminal Bus   \n",
       "150                Via Camollia 173             1     5.0        Terminal Bus   \n",
       "\n",
       "        distance  \n",
       "176   968.765622  \n",
       "206   253.346444  \n",
       "102   822.545866  \n",
       "149   906.468202  \n",
       "186   391.175672  \n",
       "99    178.490110  \n",
       "101   217.539983  \n",
       "106   659.400589  \n",
       "145  1000.171874  \n",
       "150   660.627489  "
      ]
     },
     "execution_count": 109,
     "metadata": {},
     "output_type": "execute_result"
    }
   ],
   "source": [
    "yelp_resturants.sort_values(['rating', 'review_count'], ascending=False).head(10)"
   ]
  },
  {
   "cell_type": "markdown",
   "metadata": {},
   "source": [
    "#### Turn API DataFrame's into CSV's"
   ]
  },
  {
   "cell_type": "code",
   "execution_count": 110,
   "metadata": {},
   "outputs": [],
   "source": [
    "foursquare_resturants.to_csv('foursquare_resturants.csv', index=False)\n",
    "\n",
    "yelp_resturants.to_csv('yelp_resturants.csv', index=False)"
   ]
  }
 ],
 "metadata": {
  "kernelspec": {
   "display_name": "Python 3 (ipykernel)",
   "language": "python",
   "name": "python3"
  },
  "language_info": {
   "codemirror_mode": {
    "name": "ipython",
    "version": 3
   },
   "file_extension": ".py",
   "mimetype": "text/x-python",
   "name": "python",
   "nbconvert_exporter": "python",
   "pygments_lexer": "ipython3",
   "version": "3.8.18"
  }
 },
 "nbformat": 4,
 "nbformat_minor": 4
}
